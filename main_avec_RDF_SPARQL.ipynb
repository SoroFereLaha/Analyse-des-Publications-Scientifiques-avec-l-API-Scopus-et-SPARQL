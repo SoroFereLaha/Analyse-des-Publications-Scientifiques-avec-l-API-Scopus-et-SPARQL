{
  "nbformat": 4,
  "nbformat_minor": 0,
  "metadata": {
    "colab": {
      "provenance": []
    },
    "kernelspec": {
      "name": "python3",
      "display_name": "Python 3"
    },
    "language_info": {
      "name": "python"
    }
  },
  "cells": [
    {
      "cell_type": "markdown",
      "source": [
        "# installation de la bibliotheque requests pour faire des requete sur une API"
      ],
      "metadata": {
        "id": "-pOsLt9gbNcq"
      }
    },
    {
      "cell_type": "code",
      "execution_count": null,
      "metadata": {
        "id": "bP9E5uMuPt29",
        "colab": {
          "base_uri": "https://localhost:8080/"
        },
        "outputId": "bf379e91-8cd1-469f-c70f-083f9154f964"
      },
      "outputs": [
        {
          "output_type": "stream",
          "name": "stdout",
          "text": [
            "Requirement already satisfied: requests in /usr/local/lib/python3.10/dist-packages (2.31.0)\n",
            "Requirement already satisfied: charset-normalizer<4,>=2 in /usr/local/lib/python3.10/dist-packages (from requests) (3.3.2)\n",
            "Requirement already satisfied: idna<4,>=2.5 in /usr/local/lib/python3.10/dist-packages (from requests) (3.7)\n",
            "Requirement already satisfied: urllib3<3,>=1.21.1 in /usr/local/lib/python3.10/dist-packages (from requests) (2.0.7)\n",
            "Requirement already satisfied: certifi>=2017.4.17 in /usr/local/lib/python3.10/dist-packages (from requests) (2024.6.2)\n"
          ]
        }
      ],
      "source": [
        "!pip install requests"
      ]
    },
    {
      "cell_type": "code",
      "source": [
        "import requests\n",
        "import json\n",
        "import pandas as pd\n",
        "import matplotlib.pyplot as plt\n",
        "import random"
      ],
      "metadata": {
        "id": "J9TiTSiqbXV-"
      },
      "execution_count": 7,
      "outputs": []
    },
    {
      "cell_type": "code",
      "source": [
        "# clé API\n",
        "api_key = 'c257d0b88114e77a1432946364b9f8bd'\n",
        "\n",
        "# URL de base de l'API Scopus\n",
        "url = 'https://api.elsevier.com/content/search/scopus'\n",
        "\n",
        "# Paramètres de la requête\n",
        "params = {\n",
        "    'query': 'ALL(test)',  # Requête de test\n",
        "    'apiKey': api_key,\n",
        "    'count': 25,  # Nombre de résultats par page\n",
        "    'start': 0   # Index de départ\n",
        "}\n",
        "\n",
        "# En-têtes de la requête\n",
        "headers = {\n",
        "    'Accept': 'application/json'\n",
        "}"
      ],
      "metadata": {
        "id": "ez2TwM6cbtj1"
      },
      "execution_count": null,
      "outputs": []
    },
    {
      "cell_type": "markdown",
      "source": [
        "# requete pour tester la validité de la clé"
      ],
      "metadata": {
        "id": "t-ueBjWfj1I0"
      }
    },
    {
      "cell_type": "code",
      "source": [
        "# Envoyer la requête\n",
        "response = requests.get(url, headers=headers, params=params)\n",
        "\n",
        "# Vérifier le statut de la réponse\n",
        "if response.status_code == 200:\n",
        "    print(\"La clé API est valide.\")\n",
        "    # Formater la réponse JSON pour une meilleure lisibilité\n",
        "    response_json = response.json()\n",
        "    formatted_json = json.dumps(response_json, indent=4)\n",
        "    print(\"Réponse de l'API:\")\n",
        "    print(response.json()) # remplacer par formatted_json pour une meilleur clarté\n",
        "\n",
        "    # Total des résultats\n",
        "    total_results = int(response_json.get('search-results', {}).get('opensearch:totalResults', 0))\n",
        "    print(f\"Nombre total de publications trouvées: {total_results}\")\n",
        "\n",
        "    # Nombre de publications sur la page actuelle\n",
        "    num_publications = len(response_json.get('search-results', {}).get('entry', []))\n",
        "    print(f\"Nombre de publications sur la page actuelle: {num_publications}\")\n",
        "else:\n",
        "    print(\"La clé API n'est pas valide ou il y a un autre problème.\")\n",
        "    print(\"Statut de la réponse:\", response.status_code)\n",
        "    print(\"Message d'erreur:\", response.text)"
      ],
      "metadata": {
        "colab": {
          "base_uri": "https://localhost:8080/"
        },
        "id": "e__zS2xCbmNJ",
        "outputId": "2ef80853-9bb4-4cbb-99a1-00e4b26fad5d"
      },
      "execution_count": null,
      "outputs": [
        {
          "output_type": "stream",
          "name": "stdout",
          "text": [
            "La clé API est valide.\n",
            "Réponse de l'API:\n",
            "{'search-results': {'opensearch:totalResults': '13851595', 'opensearch:startIndex': '0', 'opensearch:itemsPerPage': '25', 'opensearch:Query': {'@role': 'request', '@searchTerms': 'ALL(test)', '@startPage': '0'}, 'link': [{'@_fa': 'true', '@ref': 'self', '@href': 'https://api.elsevier.com/content/search/scopus?start=0&count=25&query=ALL%28test%29&apiKey=c257d0b88114e77a1432946364b9f8bd', '@type': 'application/json'}, {'@_fa': 'true', '@ref': 'first', '@href': 'https://api.elsevier.com/content/search/scopus?start=0&count=25&query=ALL%28test%29&apiKey=c257d0b88114e77a1432946364b9f8bd', '@type': 'application/json'}, {'@_fa': 'true', '@ref': 'next', '@href': 'https://api.elsevier.com/content/search/scopus?start=25&count=25&query=ALL%28test%29&apiKey=c257d0b88114e77a1432946364b9f8bd', '@type': 'application/json'}, {'@_fa': 'true', '@ref': 'last', '@href': 'https://api.elsevier.com/content/search/scopus?start=4975&count=25&query=ALL%28test%29&apiKey=c257d0b88114e77a1432946364b9f8bd', '@type': 'application/json'}], 'entry': [{'@_fa': 'true', 'link': [{'@_fa': 'true', '@ref': 'self', '@href': 'https://api.elsevier.com/content/abstract/scopus_id/85195044861'}, {'@_fa': 'true', '@ref': 'author-affiliation', '@href': 'https://api.elsevier.com/content/abstract/scopus_id/85195044861?field=author,affiliation'}, {'@_fa': 'true', '@ref': 'scopus', '@href': 'https://www.scopus.com/inward/record.uri?partnerID=HzOxMe3b&scp=85195044861&origin=inward'}, {'@_fa': 'true', '@ref': 'scopus-citedby', '@href': 'https://www.scopus.com/inward/citedby.uri?partnerID=HzOxMe3b&scp=85195044861&origin=inward'}, {'@_fa': 'true', '@ref': 'full-text', '@href': 'https://api.elsevier.com/content/article/eid/1-s2.0-S2772918424000274'}], 'prism:url': 'https://api.elsevier.com/content/abstract/scopus_id/85195044861', 'dc:identifier': 'SCOPUS_ID:85195044861', 'eid': '2-s2.0-85195044861', 'dc:title': 'Survey of techniques to detect common weaknesses in program binaries', 'dc:creator': 'Adhikari A.', 'prism:publicationName': 'Cyber Security and Applications', 'prism:eIssn': '27729184', 'prism:volume': '3', 'prism:pageRange': None, 'prism:coverDate': '2025-12-01', 'prism:coverDisplayDate': 'December 2025', 'prism:doi': '10.1016/j.csa.2024.100061', 'pii': 'S2772918424000274', 'citedby-count': '0', 'affiliation': [{'@_fa': 'true', 'affilname': 'KU School of Engineering', 'affiliation-city': 'Lawrence', 'affiliation-country': 'United States'}], 'prism:aggregationType': 'Journal', 'subtype': 'ar', 'subtypeDescription': 'Article', 'article-number': '100061', 'source-id': '21101188900', 'openaccess': '1', 'openaccessFlag': True, 'freetoread': {'value': [{'$': 'all'}, {'$': 'publisherhybridgold'}]}, 'freetoreadLabel': {'value': [{'$': 'All Open Access'}, {'$': 'Hybrid Gold'}]}}, {'@_fa': 'true', 'link': [{'@_fa': 'true', '@ref': 'self', '@href': 'https://api.elsevier.com/content/abstract/scopus_id/85196004972'}, {'@_fa': 'true', '@ref': 'author-affiliation', '@href': 'https://api.elsevier.com/content/abstract/scopus_id/85196004972?field=author,affiliation'}, {'@_fa': 'true', '@ref': 'scopus', '@href': 'https://www.scopus.com/inward/record.uri?partnerID=HzOxMe3b&scp=85196004972&origin=inward'}, {'@_fa': 'true', '@ref': 'scopus-citedby', '@href': 'https://www.scopus.com/inward/citedby.uri?partnerID=HzOxMe3b&scp=85196004972&origin=inward'}], 'prism:url': 'https://api.elsevier.com/content/abstract/scopus_id/85196004972', 'dc:identifier': 'SCOPUS_ID:85196004972', 'eid': '2-s2.0-85196004972', 'dc:title': 'The Testicular Toxicity Caused by 2, 3, 7, 8-tetrachloro-dibenzo-p-dioxin in / Rats, as well as the Potential Protective Impact of Resveratrol', 'dc:creator': 'Sultan A.A.', 'prism:publicationName': 'Egyptian Journal of Veterinary Science(Egypt)', 'prism:issn': '11100222', 'prism:eIssn': '2357089X', 'prism:volume': '56', 'prism:issueIdentifier': '6', 'prism:pageRange': '1225-1237', 'prism:coverDate': '2025-06-01', 'prism:coverDisplayDate': 'June 2025', 'prism:doi': '10.21608/EJVS.2024.282768.2007', 'citedby-count': '0', 'affiliation': [{'@_fa': 'true', 'affilname': 'Tikrit University', 'affiliation-city': 'Tikrit', 'affiliation-country': 'Iraq'}], 'prism:aggregationType': 'Journal', 'subtype': 'ar', 'subtypeDescription': 'Article', 'source-id': '21101149381', 'openaccess': '0', 'openaccessFlag': False}, {'@_fa': 'true', 'link': [{'@_fa': 'true', '@ref': 'self', '@href': 'https://api.elsevier.com/content/abstract/scopus_id/85195879943'}, {'@_fa': 'true', '@ref': 'author-affiliation', '@href': 'https://api.elsevier.com/content/abstract/scopus_id/85195879943?field=author,affiliation'}, {'@_fa': 'true', '@ref': 'scopus', '@href': 'https://www.scopus.com/inward/record.uri?partnerID=HzOxMe3b&scp=85195879943&origin=inward'}, {'@_fa': 'true', '@ref': 'scopus-citedby', '@href': 'https://www.scopus.com/inward/citedby.uri?partnerID=HzOxMe3b&scp=85195879943&origin=inward'}], 'prism:url': 'https://api.elsevier.com/content/abstract/scopus_id/85195879943', 'dc:identifier': 'SCOPUS_ID:85195879943', 'eid': '2-s2.0-85195879943', 'dc:title': 'Toxoplasma antibodies, Toxoplasma-DNA and Antibodies of HCV and HIV in Patients with Hemodialysis in Beni-Suef, Egypt', 'dc:creator': 'El-Askary H.M.', 'prism:publicationName': 'Egyptian Journal of Veterinary Science(Egypt)', 'prism:issn': '11100222', 'prism:eIssn': '2357089X', 'prism:volume': '56', 'prism:issueIdentifier': '6', 'prism:pageRange': '1239-1246', 'prism:coverDate': '2025-06-01', 'prism:coverDisplayDate': 'June 2025', 'prism:doi': '10.21608/EJVS.2024.284997.2034', 'citedby-count': '0', 'affiliation': [{'@_fa': 'true', 'affilname': 'Faculty of Medicine', 'affiliation-city': 'Beni Suef', 'affiliation-country': 'Egypt'}], 'prism:aggregationType': 'Journal', 'subtype': 'ar', 'subtypeDescription': 'Article', 'source-id': '21101149381', 'openaccess': '0', 'openaccessFlag': False}, {'@_fa': 'true', 'link': [{'@_fa': 'true', '@ref': 'self', '@href': 'https://api.elsevier.com/content/abstract/scopus_id/85195806096'}, {'@_fa': 'true', '@ref': 'author-affiliation', '@href': 'https://api.elsevier.com/content/abstract/scopus_id/85195806096?field=author,affiliation'}, {'@_fa': 'true', '@ref': 'scopus', '@href': 'https://www.scopus.com/inward/record.uri?partnerID=HzOxMe3b&scp=85195806096&origin=inward'}, {'@_fa': 'true', '@ref': 'scopus-citedby', '@href': 'https://www.scopus.com/inward/citedby.uri?partnerID=HzOxMe3b&scp=85195806096&origin=inward'}], 'prism:url': 'https://api.elsevier.com/content/abstract/scopus_id/85195806096', 'dc:identifier': 'SCOPUS_ID:85195806096', 'eid': '2-s2.0-85195806096', 'dc:title': 'Cryopreservative Impact of Thyme (Thymus vulgaris) Extract on Buffalo Sperm Quality', 'dc:creator': 'El-Sheshtawy R.I.', 'prism:publicationName': 'Egyptian Journal of Veterinary Science(Egypt)', 'prism:issn': '11100222', 'prism:eIssn': '2357089X', 'prism:volume': '56', 'prism:issueIdentifier': '6', 'prism:pageRange': '1161-1171', 'prism:coverDate': '2025-06-01', 'prism:coverDisplayDate': 'June 2025', 'prism:doi': '10.21608/EJVS.2024.281357.1983', 'citedby-count': '0', 'affiliation': [{'@_fa': 'true', 'affilname': 'National Research Centre', 'affiliation-city': 'Giza', 'affiliation-country': 'Egypt'}], 'prism:aggregationType': 'Journal', 'subtype': 'ar', 'subtypeDescription': 'Article', 'source-id': '21101149381', 'openaccess': '1', 'openaccessFlag': True, 'freetoread': {'value': [{'$': 'all'}, {'$': 'publisherfree2read'}]}, 'freetoreadLabel': {'value': [{'$': 'All Open Access'}, {'$': 'Bronze'}]}}, {'@_fa': 'true', 'link': [{'@_fa': 'true', '@ref': 'self', '@href': 'https://api.elsevier.com/content/abstract/scopus_id/85195794198'}, {'@_fa': 'true', '@ref': 'author-affiliation', '@href': 'https://api.elsevier.com/content/abstract/scopus_id/85195794198?field=author,affiliation'}, {'@_fa': 'true', '@ref': 'scopus', '@href': 'https://www.scopus.com/inward/record.uri?partnerID=HzOxMe3b&scp=85195794198&origin=inward'}, {'@_fa': 'true', '@ref': 'scopus-citedby', '@href': 'https://www.scopus.com/inward/citedby.uri?partnerID=HzOxMe3b&scp=85195794198&origin=inward'}], 'prism:url': 'https://api.elsevier.com/content/abstract/scopus_id/85195794198', 'dc:identifier': 'SCOPUS_ID:85195794198', 'eid': '2-s2.0-85195794198', 'dc:title': 'Molecular Detection of Klebseilla pneumoniae Isolated from Respiratory Infected Sheep and Histopathological Sudy in Rabbits', 'dc:creator': 'Dawood H.T.', 'prism:publicationName': 'Egyptian Journal of Veterinary Science(Egypt)', 'prism:issn': '11100222', 'prism:eIssn': '2357089X', 'prism:volume': '56', 'prism:issueIdentifier': '6', 'prism:pageRange': '1143-1152', 'prism:coverDate': '2025-06-01', 'prism:coverDisplayDate': 'June 2025', 'prism:doi': '10.21608/EJVS.2024.280375.1976', 'citedby-count': '0', 'affiliation': [{'@_fa': 'true', 'affilname': 'University of Baghdad', 'affiliation-city': 'Baghdad', 'affiliation-country': 'Iraq'}], 'prism:aggregationType': 'Journal', 'subtype': 'ar', 'subtypeDescription': 'Article', 'source-id': '21101149381', 'openaccess': '1', 'openaccessFlag': True, 'freetoread': {'value': [{'$': 'all'}, {'$': 'publisherfree2read'}]}, 'freetoreadLabel': {'value': [{'$': 'All Open Access'}, {'$': 'Bronze'}]}}, {'@_fa': 'true', 'link': [{'@_fa': 'true', '@ref': 'self', '@href': 'https://api.elsevier.com/content/abstract/scopus_id/85195699821'}, {'@_fa': 'true', '@ref': 'author-affiliation', '@href': 'https://api.elsevier.com/content/abstract/scopus_id/85195699821?field=author,affiliation'}, {'@_fa': 'true', '@ref': 'scopus', '@href': 'https://www.scopus.com/inward/record.uri?partnerID=HzOxMe3b&scp=85195699821&origin=inward'}, {'@_fa': 'true', '@ref': 'scopus-citedby', '@href': 'https://www.scopus.com/inward/citedby.uri?partnerID=HzOxMe3b&scp=85195699821&origin=inward'}, {'@_fa': 'true', '@ref': 'full-text', '@href': 'https://api.elsevier.com/content/article/eid/1-s2.0-S1001074224002912'}], 'prism:url': 'https://api.elsevier.com/content/abstract/scopus_id/85195699821', 'dc:identifier': 'SCOPUS_ID:85195699821', 'eid': '2-s2.0-85195699821', 'dc:title': 'The compounding effect of re-adsorptionon on bioaccessibility of methylmercury in rice-based infant cereals by vitro digestion assessment', 'dc:creator': 'Wang X.', 'prism:publicationName': 'Journal of Environmental Sciences (China)', 'prism:issn': '10010742', 'prism:eIssn': '18787320', 'prism:volume': '152', 'prism:pageRange': '477-487', 'prism:coverDate': '2025-06-01', 'prism:coverDisplayDate': 'June 2025', 'prism:doi': '10.1016/j.jes.2024.05.052', 'pii': 'S1001074224002912', 'citedby-count': '0', 'affiliation': [{'@_fa': 'true', 'affilname': 'Shandong University', 'affiliation-city': 'Jinan', 'affiliation-country': 'China'}], 'prism:aggregationType': 'Journal', 'subtype': 'ar', 'subtypeDescription': 'Article', 'source-id': '23393', 'openaccess': '0', 'openaccessFlag': False}, {'@_fa': 'true', 'link': [{'@_fa': 'true', '@ref': 'self', '@href': 'https://api.elsevier.com/content/abstract/scopus_id/85195417373'}, {'@_fa': 'true', '@ref': 'author-affiliation', '@href': 'https://api.elsevier.com/content/abstract/scopus_id/85195417373?field=author,affiliation'}, {'@_fa': 'true', '@ref': 'scopus', '@href': 'https://www.scopus.com/inward/record.uri?partnerID=HzOxMe3b&scp=85195417373&origin=inward'}, {'@_fa': 'true', '@ref': 'scopus-citedby', '@href': 'https://www.scopus.com/inward/citedby.uri?partnerID=HzOxMe3b&scp=85195417373&origin=inward'}, {'@_fa': 'true', '@ref': 'full-text', '@href': 'https://api.elsevier.com/content/article/eid/1-s2.0-S1001074224002468'}], 'prism:url': 'https://api.elsevier.com/content/abstract/scopus_id/85195417373', 'dc:identifier': 'SCOPUS_ID:85195417373', 'eid': '2-s2.0-85195417373', 'dc:title': 'Lanthanum hydroxide showed best application potential in La-based materials based on its stable phosphate adsorption properties in complex water environments', 'dc:creator': 'Zhu L.', 'prism:publicationName': 'Journal of Environmental Sciences (China)', 'prism:issn': '10010742', 'prism:eIssn': '18787320', 'prism:volume': '152', 'prism:pageRange': '465-476', 'prism:coverDate': '2025-06-01', 'prism:coverDisplayDate': 'June 2025', 'prism:doi': '10.1016/j.jes.2024.05.014', 'pii': 'S1001074224002468', 'citedby-count': '0', 'affiliation': [{'@_fa': 'true', 'affilname': 'Beijing Forestry University', 'affiliation-city': 'Beijing', 'affiliation-country': 'China'}], 'prism:aggregationType': 'Journal', 'subtype': 'ar', 'subtypeDescription': 'Article', 'source-id': '23393', 'openaccess': '0', 'openaccessFlag': False}, {'@_fa': 'true', 'link': [{'@_fa': 'true', '@ref': 'self', '@href': 'https://api.elsevier.com/content/abstract/scopus_id/85195364142'}, {'@_fa': 'true', '@ref': 'author-affiliation', '@href': 'https://api.elsevier.com/content/abstract/scopus_id/85195364142?field=author,affiliation'}, {'@_fa': 'true', '@ref': 'scopus', '@href': 'https://www.scopus.com/inward/record.uri?partnerID=HzOxMe3b&scp=85195364142&origin=inward'}, {'@_fa': 'true', '@ref': 'scopus-citedby', '@href': 'https://www.scopus.com/inward/citedby.uri?partnerID=HzOxMe3b&scp=85195364142&origin=inward'}, {'@_fa': 'true', '@ref': 'full-text', '@href': 'https://api.elsevier.com/content/article/eid/1-s2.0-S1001074224002900'}], 'prism:url': 'https://api.elsevier.com/content/abstract/scopus_id/85195364142', 'dc:identifier': 'SCOPUS_ID:85195364142', 'eid': '2-s2.0-85195364142', 'dc:title': 'Molecular biological mechanism of fillers with surface micro-electric field to enhance biodegradation of kitchen-oil wastewater', 'dc:creator': 'Ren T.', 'prism:publicationName': 'Journal of Environmental Sciences (China)', 'prism:issn': '10010742', 'prism:eIssn': '18787320', 'prism:volume': '152', 'prism:pageRange': '453-464', 'prism:coverDate': '2025-06-01', 'prism:coverDisplayDate': 'June 2025', 'prism:doi': '10.1016/j.jes.2024.05.051', 'pii': 'S1001074224002900', 'citedby-count': '0', 'affiliation': [{'@_fa': 'true', 'affilname': 'Guangzhou University', 'affiliation-city': 'Guangzhou', 'affiliation-country': 'China'}], 'prism:aggregationType': 'Journal', 'subtype': 'ar', 'subtypeDescription': 'Article', 'source-id': '23393', 'openaccess': '0', 'openaccessFlag': False}, {'@_fa': 'true', 'link': [{'@_fa': 'true', '@ref': 'self', '@href': 'https://api.elsevier.com/content/abstract/scopus_id/85195071879'}, {'@_fa': 'true', '@ref': 'author-affiliation', '@href': 'https://api.elsevier.com/content/abstract/scopus_id/85195071879?field=author,affiliation'}, {'@_fa': 'true', '@ref': 'scopus', '@href': 'https://www.scopus.com/inward/record.uri?partnerID=HzOxMe3b&scp=85195071879&origin=inward'}, {'@_fa': 'true', '@ref': 'scopus-citedby', '@href': 'https://www.scopus.com/inward/citedby.uri?partnerID=HzOxMe3b&scp=85195071879&origin=inward'}, {'@_fa': 'true', '@ref': 'full-text', '@href': 'https://api.elsevier.com/content/article/eid/1-s2.0-S1001074224002778'}], 'prism:url': 'https://api.elsevier.com/content/abstract/scopus_id/85195071879', 'dc:identifier': 'SCOPUS_ID:85195071879', 'eid': '2-s2.0-85195071879', 'dc:title': 'Effects of batch and continuous-flow operation on biotreatment of Mn(II)-containing mine drainage', 'dc:creator': 'Gotore O.', 'prism:publicationName': 'Journal of Environmental Sciences (China)', 'prism:issn': '10010742', 'prism:eIssn': '18787320', 'prism:volume': '152', 'prism:pageRange': '401-415', 'prism:coverDate': '2025-06-01', 'prism:coverDisplayDate': 'June 2025', 'prism:doi': '10.1016/j.jes.2024.05.038', 'pii': 'S1001074224002778', 'citedby-count': '0', 'affiliation': [{'@_fa': 'true', 'affilname': 'Akita Prefectural University', 'affiliation-city': 'Akita', 'affiliation-country': 'Japan'}], 'prism:aggregationType': 'Journal', 'subtype': 'ar', 'subtypeDescription': 'Article', 'source-id': '23393', 'openaccess': '0', 'openaccessFlag': False}, {'@_fa': 'true', 'link': [{'@_fa': 'true', '@ref': 'self', '@href': 'https://api.elsevier.com/content/abstract/scopus_id/85194388486'}, {'@_fa': 'true', '@ref': 'author-affiliation', '@href': 'https://api.elsevier.com/content/abstract/scopus_id/85194388486?field=author,affiliation'}, {'@_fa': 'true', '@ref': 'scopus', '@href': 'https://www.scopus.com/inward/record.uri?partnerID=HzOxMe3b&scp=85194388486&origin=inward'}, {'@_fa': 'true', '@ref': 'scopus-citedby', '@href': 'https://www.scopus.com/inward/citedby.uri?partnerID=HzOxMe3b&scp=85194388486&origin=inward'}, {'@_fa': 'true', '@ref': 'full-text', '@href': 'https://api.elsevier.com/content/article/eid/1-s2.0-S1001074224001645'}], 'prism:url': 'https://api.elsevier.com/content/abstract/scopus_id/85194388486', 'dc:identifier': 'SCOPUS_ID:85194388486', 'eid': '2-s2.0-85194388486', 'dc:title': 'Gene expression profiles of Chinese medaka (Oryzias sinensis) primary hepatocytes in response to estrone (E<inf>1</inf>), 17β-estradiol (E<inf>2</inf>) and estriol (E<inf>3</inf>)', 'dc:creator': 'Wang Y.', 'prism:publicationName': 'Journal of Environmental Sciences (China)', 'prism:issn': '10010742', 'prism:eIssn': '18787320', 'prism:volume': '152', 'prism:pageRange': '368-375', 'prism:coverDate': '2025-06-01', 'prism:coverDisplayDate': 'June 2025', 'prism:doi': '10.1016/j.jes.2024.03.047', 'pii': 'S1001074224001645', 'citedby-count': '0', 'affiliation': [{'@_fa': 'true', 'affilname': 'Peking University', 'affiliation-city': 'Beijing', 'affiliation-country': 'China'}], 'prism:aggregationType': 'Journal', 'subtype': 'ar', 'subtypeDescription': 'Article', 'source-id': '23393', 'openaccess': '0', 'openaccessFlag': False}, {'@_fa': 'true', 'link': [{'@_fa': 'true', '@ref': 'self', '@href': 'https://api.elsevier.com/content/abstract/scopus_id/85193426253'}, {'@_fa': 'true', '@ref': 'author-affiliation', '@href': 'https://api.elsevier.com/content/abstract/scopus_id/85193426253?field=author,affiliation'}, {'@_fa': 'true', '@ref': 'scopus', '@href': 'https://www.scopus.com/inward/record.uri?partnerID=HzOxMe3b&scp=85193426253&origin=inward'}, {'@_fa': 'true', '@ref': 'scopus-citedby', '@href': 'https://www.scopus.com/inward/citedby.uri?partnerID=HzOxMe3b&scp=85193426253&origin=inward'}, {'@_fa': 'true', '@ref': 'full-text', '@href': 'https://api.elsevier.com/content/article/eid/1-s2.0-S1001074224002420'}], 'prism:url': 'https://api.elsevier.com/content/abstract/scopus_id/85193426253', 'dc:identifier': 'SCOPUS_ID:85193426253', 'eid': '2-s2.0-85193426253', 'dc:title': 'Understanding filamentous cyanobacteria and their adaptive niches in Lake Honghu, a shallow eutrophic lake', 'dc:creator': 'Gao G.', 'prism:publicationName': 'Journal of Environmental Sciences (China)', 'prism:issn': '10010742', 'prism:eIssn': '18787320', 'prism:volume': '152', 'prism:pageRange': '219-234', 'prism:coverDate': '2025-06-01', 'prism:coverDisplayDate': 'June 2025', 'prism:doi': '10.1016/j.jes.2024.05.010', 'pii': 'S1001074224002420', 'citedby-count': '0', 'affiliation': [{'@_fa': 'true', 'affilname': 'University of Chinese Academy of Sciences', 'affiliation-city': 'Beijing', 'affiliation-country': 'China'}, {'@_fa': 'true', 'affilname': 'Institute of Hydrobiology, Chinese Academy of Sciences', 'affiliation-city': 'Wuhan', 'affiliation-country': 'China'}], 'prism:aggregationType': 'Journal', 'subtype': 'ar', 'subtypeDescription': 'Article', 'source-id': '23393', 'openaccess': '0', 'openaccessFlag': False}, {'@_fa': 'true', 'link': [{'@_fa': 'true', '@ref': 'self', '@href': 'https://api.elsevier.com/content/abstract/scopus_id/85192941675'}, {'@_fa': 'true', '@ref': 'author-affiliation', '@href': 'https://api.elsevier.com/content/abstract/scopus_id/85192941675?field=author,affiliation'}, {'@_fa': 'true', '@ref': 'scopus', '@href': 'https://www.scopus.com/inward/record.uri?partnerID=HzOxMe3b&scp=85192941675&origin=inward'}, {'@_fa': 'true', '@ref': 'scopus-citedby', '@href': 'https://www.scopus.com/inward/citedby.uri?partnerID=HzOxMe3b&scp=85192941675&origin=inward'}, {'@_fa': 'true', '@ref': 'full-text', '@href': 'https://api.elsevier.com/content/article/eid/1-s2.0-S1001074224002341'}], 'prism:url': 'https://api.elsevier.com/content/abstract/scopus_id/85192941675', 'dc:identifier': 'SCOPUS_ID:85192941675', 'eid': '2-s2.0-85192941675', 'dc:title': 'Effect of temperature on surface fluid sediment properties with cyanobacterial bloom biomass accumulation', 'dc:creator': 'Wang C.', 'prism:publicationName': 'Journal of Environmental Sciences (China)', 'prism:issn': '10010742', 'prism:eIssn': '18787320', 'prism:volume': '152', 'prism:pageRange': '111-121', 'prism:coverDate': '2025-06-01', 'prism:coverDisplayDate': 'June 2025', 'prism:doi': '10.1016/j.jes.2024.05.001', 'pii': 'S1001074224002341', 'citedby-count': '0', 'affiliation': [{'@_fa': 'true', 'affilname': 'Nanjing Institute of Geography and Limnology Chinese Academy of Sciences', 'affiliation-city': 'Nanjing', 'affiliation-country': 'China'}, {'@_fa': 'true', 'affilname': 'Jiangsu University', 'affiliation-city': 'Zhenjiang', 'affiliation-country': 'China'}], 'prism:aggregationType': 'Journal', 'subtype': 'ar', 'subtypeDescription': 'Article', 'source-id': '23393', 'openaccess': '0', 'openaccessFlag': False}, {'@_fa': 'true', 'link': [{'@_fa': 'true', '@ref': 'self', '@href': 'https://api.elsevier.com/content/abstract/scopus_id/85192879019'}, {'@_fa': 'true', '@ref': 'author-affiliation', '@href': 'https://api.elsevier.com/content/abstract/scopus_id/85192879019?field=author,affiliation'}, {'@_fa': 'true', '@ref': 'scopus', '@href': 'https://www.scopus.com/inward/record.uri?partnerID=HzOxMe3b&scp=85192879019&origin=inward'}, {'@_fa': 'true', '@ref': 'scopus-citedby', '@href': 'https://www.scopus.com/inward/citedby.uri?partnerID=HzOxMe3b&scp=85192879019&origin=inward'}, {'@_fa': 'true', '@ref': 'full-text', '@href': 'https://api.elsevier.com/content/article/eid/1-s2.0-S1001074224002286'}], 'prism:url': 'https://api.elsevier.com/content/abstract/scopus_id/85192879019', 'dc:identifier': 'SCOPUS_ID:85192879019', 'eid': '2-s2.0-85192879019', 'dc:title': 'Advancing autotrophic nitrogen removal in low C/N ratio wastewater: Innovative application of supercapacitor to enhance microbial electrolysis cells', 'dc:creator': 'Fan S.', 'prism:publicationName': 'Journal of Environmental Sciences (China)', 'prism:issn': '10010742', 'prism:eIssn': '18787320', 'prism:volume': '152', 'prism:pageRange': '87-98', 'prism:coverDate': '2025-06-01', 'prism:coverDisplayDate': 'June 2025', 'prism:doi': '10.1016/j.jes.2024.04.042', 'pii': 'S1001074224002286', 'citedby-count': '0', 'affiliation': [{'@_fa': 'true', 'affilname': 'Chengdu Institute of Biology Chinese Academy of Sciences', 'affiliation-city': 'Chengdu', 'affiliation-country': 'China'}, {'@_fa': 'true', 'affilname': 'Sichuan University', 'affiliation-city': 'Chengdu', 'affiliation-country': 'China'}], 'prism:aggregationType': 'Journal', 'subtype': 'ar', 'subtypeDescription': 'Article', 'source-id': '23393', 'openaccess': '0', 'openaccessFlag': False}, {'@_fa': 'true', 'link': [{'@_fa': 'true', '@ref': 'self', '@href': 'https://api.elsevier.com/content/abstract/scopus_id/85192800068'}, {'@_fa': 'true', '@ref': 'author-affiliation', '@href': 'https://api.elsevier.com/content/abstract/scopus_id/85192800068?field=author,affiliation'}, {'@_fa': 'true', '@ref': 'scopus', '@href': 'https://www.scopus.com/inward/record.uri?partnerID=HzOxMe3b&scp=85192800068&origin=inward'}, {'@_fa': 'true', '@ref': 'scopus-citedby', '@href': 'https://www.scopus.com/inward/citedby.uri?partnerID=HzOxMe3b&scp=85192800068&origin=inward'}, {'@_fa': 'true', '@ref': 'full-text', '@href': 'https://api.elsevier.com/content/article/eid/1-s2.0-S1001074224002079'}], 'prism:url': 'https://api.elsevier.com/content/abstract/scopus_id/85192800068', 'dc:identifier': 'SCOPUS_ID:85192800068', 'eid': '2-s2.0-85192800068', 'dc:title': 'Characterization and sources of childhood PAEs exposure from residential airborne dust in China cities', 'dc:creator': 'Wang C.', 'prism:publicationName': 'Journal of Environmental Sciences (China)', 'prism:issn': '10010742', 'prism:eIssn': '18787320', 'prism:volume': '152', 'prism:pageRange': '1-13', 'prism:coverDate': '2025-06-01', 'prism:coverDisplayDate': 'June 2025', 'prism:doi': '10.1016/j.jes.2024.04.028', 'pii': 'S1001074224002079', 'citedby-count': '0', 'affiliation': [{'@_fa': 'true', 'affilname': 'Chinese Center for Disease Control and Prevention', 'affiliation-city': 'Beijing', 'affiliation-country': 'China'}], 'prism:aggregationType': 'Journal', 'subtype': 'ar', 'subtypeDescription': 'Article', 'source-id': '23393', 'openaccess': '0', 'openaccessFlag': False}, {'@_fa': 'true', 'link': [{'@_fa': 'true', '@ref': 'self', '@href': 'https://api.elsevier.com/content/abstract/scopus_id/85192777257'}, {'@_fa': 'true', '@ref': 'author-affiliation', '@href': 'https://api.elsevier.com/content/abstract/scopus_id/85192777257?field=author,affiliation'}, {'@_fa': 'true', '@ref': 'scopus', '@href': 'https://www.scopus.com/inward/record.uri?partnerID=HzOxMe3b&scp=85192777257&origin=inward'}, {'@_fa': 'true', '@ref': 'scopus-citedby', '@href': 'https://www.scopus.com/inward/citedby.uri?partnerID=HzOxMe3b&scp=85192777257&origin=inward'}, {'@_fa': 'true', '@ref': 'full-text', '@href': 'https://api.elsevier.com/content/article/eid/1-s2.0-S1001074224002006'}], 'prism:url': 'https://api.elsevier.com/content/abstract/scopus_id/85192777257', 'dc:identifier': 'SCOPUS_ID:85192777257', 'eid': '2-s2.0-85192777257', 'dc:title': 'Transcriptomic and biochemical analysis of the mechanism of sodium gluconate promoting the degradation of benzo [a] pyrene by Bacillus subtilis MSC4', 'dc:creator': 'Chen R.', 'prism:publicationName': 'Journal of Environmental Sciences (China)', 'prism:issn': '10010742', 'prism:eIssn': '18787320', 'prism:volume': '152', 'prism:pageRange': '39-53', 'prism:coverDate': '2025-06-01', 'prism:coverDisplayDate': 'June 2025', 'prism:doi': '10.1016/j.jes.2024.04.021', 'pii': 'S1001074224002006', 'citedby-count': '0', 'affiliation': [{'@_fa': 'true', 'affilname': 'Guangdong Province Key Laboratory of Fermentation and Enzyme Engineering', 'affiliation-city': 'Guangzhou', 'affiliation-country': 'China'}, {'@_fa': 'true', 'affilname': 'South China University of Technology', 'affiliation-city': 'Guangzhou', 'affiliation-country': 'China'}], 'prism:aggregationType': 'Journal', 'subtype': 'ar', 'subtypeDescription': 'Article', 'source-id': '23393', 'openaccess': '0', 'openaccessFlag': False}, {'@_fa': 'true', 'link': [{'@_fa': 'true', '@ref': 'self', '@href': 'https://api.elsevier.com/content/abstract/scopus_id/85195808455'}, {'@_fa': 'true', '@ref': 'author-affiliation', '@href': 'https://api.elsevier.com/content/abstract/scopus_id/85195808455?field=author,affiliation'}, {'@_fa': 'true', '@ref': 'scopus', '@href': 'https://www.scopus.com/inward/record.uri?partnerID=HzOxMe3b&scp=85195808455&origin=inward'}, {'@_fa': 'true', '@ref': 'scopus-citedby', '@href': 'https://www.scopus.com/inward/citedby.uri?partnerID=HzOxMe3b&scp=85195808455&origin=inward'}], 'prism:url': 'https://api.elsevier.com/content/abstract/scopus_id/85195808455', 'dc:identifier': 'SCOPUS_ID:85195808455', 'eid': '2-s2.0-85195808455', 'dc:title': 'Melatonin Mechanism to Mitigate Aging-related Changes in the Liver, Kidney, and Brain in Rats', 'dc:creator': 'Qasim Z.', 'prism:publicationName': 'Egyptian Journal of Veterinary Science(Egypt)', 'prism:issn': '11100222', 'prism:eIssn': '2357089X', 'prism:volume': '56', 'prism:issueIdentifier': '5', 'prism:pageRange': '993-1004', 'prism:coverDate': '2025-05-01', 'prism:coverDisplayDate': 'May 2025', 'prism:doi': '10.21608/EJVS.2024.277314.1925', 'citedby-count': '0', 'affiliation': [{'@_fa': 'true', 'affilname': 'Faculty of Veterinary MedicineKafrelsheikh University', 'affiliation-city': 'Kafr el-Sheikh', 'affiliation-country': 'Egypt'}], 'prism:aggregationType': 'Journal', 'subtype': 'ar', 'subtypeDescription': 'Article', 'source-id': '21101149381', 'openaccess': '1', 'openaccessFlag': True, 'freetoread': {'value': [{'$': 'all'}, {'$': 'publisherfullgold'}]}, 'freetoreadLabel': {'value': [{'$': 'All Open Access'}, {'$': 'Gold'}]}}, {'@_fa': 'true', 'link': [{'@_fa': 'true', '@ref': 'self', '@href': 'https://api.elsevier.com/content/abstract/scopus_id/85195803256'}, {'@_fa': 'true', '@ref': 'author-affiliation', '@href': 'https://api.elsevier.com/content/abstract/scopus_id/85195803256?field=author,affiliation'}, {'@_fa': 'true', '@ref': 'scopus', '@href': 'https://www.scopus.com/inward/record.uri?partnerID=HzOxMe3b&scp=85195803256&origin=inward'}, {'@_fa': 'true', '@ref': 'scopus-citedby', '@href': 'https://www.scopus.com/inward/citedby.uri?partnerID=HzOxMe3b&scp=85195803256&origin=inward'}], 'prism:url': 'https://api.elsevier.com/content/abstract/scopus_id/85195803256', 'dc:identifier': 'SCOPUS_ID:85195803256', 'eid': '2-s2.0-85195803256', 'dc:title': 'Laboratory Diagnosis of Mycoplasma spp. from the Upper Respiratory Tract and Conjunctival Infections in Shelter Cats', 'dc:creator': 'Al-Jumaa Z.M.', 'prism:publicationName': 'Egyptian Journal of Veterinary Science(Egypt)', 'prism:issn': '11100222', 'prism:eIssn': '2357089X', 'prism:volume': '56', 'prism:issueIdentifier': '5', 'prism:pageRange': '1105-1112', 'prism:coverDate': '2025-05-01', 'prism:coverDisplayDate': 'May 2025', 'prism:doi': '10.21608/EJVS.2024.279983.1973', 'citedby-count': '0', 'affiliation': [{'@_fa': 'true', 'affilname': 'University of Baghdad', 'affiliation-city': 'Baghdad', 'affiliation-country': 'Iraq'}], 'prism:aggregationType': 'Journal', 'subtype': 'ar', 'subtypeDescription': 'Article', 'source-id': '21101149381', 'openaccess': '1', 'openaccessFlag': True, 'freetoread': {'value': [{'$': 'all'}, {'$': 'publisherfullgold'}]}, 'freetoreadLabel': {'value': [{'$': 'All Open Access'}, {'$': 'Gold'}]}}, {'@_fa': 'true', 'link': [{'@_fa': 'true', '@ref': 'self', '@href': 'https://api.elsevier.com/content/abstract/scopus_id/85195799358'}, {'@_fa': 'true', '@ref': 'author-affiliation', '@href': 'https://api.elsevier.com/content/abstract/scopus_id/85195799358?field=author,affiliation'}, {'@_fa': 'true', '@ref': 'scopus', '@href': 'https://www.scopus.com/inward/record.uri?partnerID=HzOxMe3b&scp=85195799358&origin=inward'}, {'@_fa': 'true', '@ref': 'scopus-citedby', '@href': 'https://www.scopus.com/inward/citedby.uri?partnerID=HzOxMe3b&scp=85195799358&origin=inward'}], 'prism:url': 'https://api.elsevier.com/content/abstract/scopus_id/85195799358', 'dc:identifier': 'SCOPUS_ID:85195799358', 'eid': '2-s2.0-85195799358', 'dc:title': 'Mitigating Adverse Effects of Lead Acetate on Nile Tilapia Health through Pomegranate Pulp Inclusion: Growth, Morphology, Flesh Quality, Antioxidant Response, Gene Expression, and Apoptosis', 'dc:creator': 'El-Nagar S.H.', 'prism:publicationName': 'Egyptian Journal of Veterinary Science(Egypt)', 'prism:issn': '11100222', 'prism:eIssn': '2357089X', 'prism:volume': '56', 'prism:issueIdentifier': '5', 'prism:pageRange': '925-941', 'prism:coverDate': '2025-05-01', 'prism:coverDisplayDate': 'May 2025', 'prism:doi': '10.21608/EJVS.2024.276858.1915', 'citedby-count': '0', 'affiliation': [{'@_fa': 'true', 'affilname': 'Faculty of Veteinary Medicine', 'affiliation-city': 'Kafr el-Sheikh', 'affiliation-country': 'Egypt'}], 'prism:aggregationType': 'Journal', 'subtype': 'ar', 'subtypeDescription': 'Article', 'source-id': '21101149381', 'openaccess': '1', 'openaccessFlag': True, 'freetoread': {'value': [{'$': 'all'}, {'$': 'publisherfullgold'}]}, 'freetoreadLabel': {'value': [{'$': 'All Open Access'}, {'$': 'Gold'}]}}, {'@_fa': 'true', 'link': [{'@_fa': 'true', '@ref': 'self', '@href': 'https://api.elsevier.com/content/abstract/scopus_id/85195798161'}, {'@_fa': 'true', '@ref': 'author-affiliation', '@href': 'https://api.elsevier.com/content/abstract/scopus_id/85195798161?field=author,affiliation'}, {'@_fa': 'true', '@ref': 'scopus', '@href': 'https://www.scopus.com/inward/record.uri?partnerID=HzOxMe3b&scp=85195798161&origin=inward'}, {'@_fa': 'true', '@ref': 'scopus-citedby', '@href': 'https://www.scopus.com/inward/citedby.uri?partnerID=HzOxMe3b&scp=85195798161&origin=inward'}], 'prism:url': 'https://api.elsevier.com/content/abstract/scopus_id/85195798161', 'dc:identifier': 'SCOPUS_ID:85195798161', 'eid': '2-s2.0-85195798161', 'dc:title': 'Preparation of Combined Inactivated Oil Adjuvanted Pasteurella Spp. and Clostridium Spp. Vaccine (Pneumoclost) in Sheep', 'dc:creator': 'Ibrahim F.F.', 'prism:publicationName': 'Egyptian Journal of Veterinary Science(Egypt)', 'prism:issn': '11100222', 'prism:eIssn': '2357089X', 'prism:volume': '56', 'prism:issueIdentifier': '5', 'prism:pageRange': '875-884', 'prism:coverDate': '2025-05-01', 'prism:coverDisplayDate': 'May 2025', 'prism:doi': '10.21608/EJVS.2024.267090.1820', 'citedby-count': '0', 'affiliation': [{'@_fa': 'true', 'affilname': 'Veterinary Serum and Vaccine Research Institute (VSVRI)', 'affiliation-city': 'Cairo', 'affiliation-country': 'Egypt'}], 'prism:aggregationType': 'Journal', 'subtype': 'ar', 'subtypeDescription': 'Article', 'source-id': '21101149381', 'openaccess': '1', 'openaccessFlag': True, 'freetoread': {'value': [{'$': 'all'}, {'$': 'publisherfree2read'}]}, 'freetoreadLabel': {'value': [{'$': 'All Open Access'}, {'$': 'Bronze'}]}}, {'@_fa': 'true', 'link': [{'@_fa': 'true', '@ref': 'self', '@href': 'https://api.elsevier.com/content/abstract/scopus_id/85195793232'}, {'@_fa': 'true', '@ref': 'author-affiliation', '@href': 'https://api.elsevier.com/content/abstract/scopus_id/85195793232?field=author,affiliation'}, {'@_fa': 'true', '@ref': 'scopus', '@href': 'https://www.scopus.com/inward/record.uri?partnerID=HzOxMe3b&scp=85195793232&origin=inward'}, {'@_fa': 'true', '@ref': 'scopus-citedby', '@href': 'https://www.scopus.com/inward/citedby.uri?partnerID=HzOxMe3b&scp=85195793232&origin=inward'}], 'prism:url': 'https://api.elsevier.com/content/abstract/scopus_id/85195793232', 'dc:identifier': 'SCOPUS_ID:85195793232', 'eid': '2-s2.0-85195793232', 'dc:title': 'The Behavioral Aggressiveness, Social Stress and Physiological Parameters Screening in Local Egyptian Chicken Strains', 'dc:creator': 'El Shoukary R.D.', 'prism:publicationName': 'Egyptian Journal of Veterinary Science(Egypt)', 'prism:issn': '11100222', 'prism:eIssn': '2357089X', 'prism:volume': '56', 'prism:issueIdentifier': '5', 'prism:pageRange': '1005-1015', 'prism:coverDate': '2025-05-01', 'prism:coverDisplayDate': 'May 2025', 'prism:doi': '10.21608/EJVS.2024.277558.1930', 'citedby-count': '0', 'affiliation': [{'@_fa': 'true', 'affilname': 'College of Veterinary Medicine', 'affiliation-city': 'Kharga', 'affiliation-country': 'Egypt'}], 'prism:aggregationType': 'Journal', 'subtype': 'ar', 'subtypeDescription': 'Article', 'source-id': '21101149381', 'openaccess': '1', 'openaccessFlag': True, 'freetoread': {'value': [{'$': 'all'}, {'$': 'publisherfree2read'}]}, 'freetoreadLabel': {'value': [{'$': 'All Open Access'}, {'$': 'Bronze'}]}}, {'@_fa': 'true', 'link': [{'@_fa': 'true', '@ref': 'self', '@href': 'https://api.elsevier.com/content/abstract/scopus_id/85195791368'}, {'@_fa': 'true', '@ref': 'author-affiliation', '@href': 'https://api.elsevier.com/content/abstract/scopus_id/85195791368?field=author,affiliation'}, {'@_fa': 'true', '@ref': 'scopus', '@href': 'https://www.scopus.com/inward/record.uri?partnerID=HzOxMe3b&scp=85195791368&origin=inward'}, {'@_fa': 'true', '@ref': 'scopus-citedby', '@href': 'https://www.scopus.com/inward/citedby.uri?partnerID=HzOxMe3b&scp=85195791368&origin=inward'}], 'prism:url': 'https://api.elsevier.com/content/abstract/scopus_id/85195791368', 'dc:identifier': 'SCOPUS_ID:85195791368', 'eid': '2-s2.0-85195791368', 'dc:title': 'Turmeric and Onion Extracts as Effective Marinating Agents: Reducing PhIP Formation and Improving Quality in Cooked Chicken Breast across Various Cooking Techniques', 'dc:creator': 'Abdallah R.M.', 'prism:publicationName': 'Egyptian Journal of Veterinary Science(Egypt)', 'prism:issn': '11100222', 'prism:eIssn': '2357089X', 'prism:volume': '56', 'prism:issueIdentifier': '5', 'prism:pageRange': '903-914', 'prism:coverDate': '2025-05-01', 'prism:coverDisplayDate': 'May 2025', 'prism:doi': '10.21608/EJVS.2024.276423.1907', 'citedby-count': '0', 'affiliation': [{'@_fa': 'true', 'affilname': 'Faculty of Veteinary Medicine', 'affiliation-city': 'Kafr el-Sheikh', 'affiliation-country': 'Egypt'}, {'@_fa': 'true', 'affilname': 'Faculty of veterinary medicine', 'affiliation-city': 'Cairo', 'affiliation-country': 'Egypt'}], 'prism:aggregationType': 'Journal', 'subtype': 'ar', 'subtypeDescription': 'Article', 'source-id': '21101149381', 'openaccess': '1', 'openaccessFlag': True, 'freetoread': {'value': [{'$': 'all'}, {'$': 'publisherfree2read'}]}, 'freetoreadLabel': {'value': [{'$': 'All Open Access'}, {'$': 'Bronze'}]}}, {'@_fa': 'true', 'link': [{'@_fa': 'true', '@ref': 'self', '@href': 'https://api.elsevier.com/content/abstract/scopus_id/85195783318'}, {'@_fa': 'true', '@ref': 'author-affiliation', '@href': 'https://api.elsevier.com/content/abstract/scopus_id/85195783318?field=author,affiliation'}, {'@_fa': 'true', '@ref': 'scopus', '@href': 'https://www.scopus.com/inward/record.uri?partnerID=HzOxMe3b&scp=85195783318&origin=inward'}, {'@_fa': 'true', '@ref': 'scopus-citedby', '@href': 'https://www.scopus.com/inward/citedby.uri?partnerID=HzOxMe3b&scp=85195783318&origin=inward'}], 'prism:url': 'https://api.elsevier.com/content/abstract/scopus_id/85195783318', 'dc:identifier': 'SCOPUS_ID:85195783318', 'eid': '2-s2.0-85195783318', 'dc:title': 'Pharmacological Studies on Lincomycin in Broilers with Necrotic Enteritis (Cl. Perfringens)', 'dc:creator': 'Abd El-Alim A.E.A.F.', 'prism:publicationName': 'Egyptian Journal of Veterinary Science(Egypt)', 'prism:issn': '11100222', 'prism:eIssn': '2357089X', 'prism:volume': '56', 'prism:issueIdentifier': '5', 'prism:pageRange': '1081-1097', 'prism:coverDate': '2025-05-01', 'prism:coverDisplayDate': 'May 2025', 'prism:doi': '10.21608/EJVS.2024.278826.1961', 'citedby-count': '0', 'affiliation': [{'@_fa': 'true', 'affilname': 'Faculty of Pharmacy', 'affiliation-city': 'Zagazig', 'affiliation-country': 'Egypt'}], 'prism:aggregationType': 'Journal', 'subtype': 'ar', 'subtypeDescription': 'Article', 'source-id': '21101149381', 'openaccess': '1', 'openaccessFlag': True, 'freetoread': {'value': [{'$': 'all'}, {'$': 'publisherfree2read'}]}, 'freetoreadLabel': {'value': [{'$': 'All Open Access'}, {'$': 'Bronze'}]}}, {'@_fa': 'true', 'link': [{'@_fa': 'true', '@ref': 'self', '@href': 'https://api.elsevier.com/content/abstract/scopus_id/85195780206'}, {'@_fa': 'true', '@ref': 'author-affiliation', '@href': 'https://api.elsevier.com/content/abstract/scopus_id/85195780206?field=author,affiliation'}, {'@_fa': 'true', '@ref': 'scopus', '@href': 'https://www.scopus.com/inward/record.uri?partnerID=HzOxMe3b&scp=85195780206&origin=inward'}, {'@_fa': 'true', '@ref': 'scopus-citedby', '@href': 'https://www.scopus.com/inward/citedby.uri?partnerID=HzOxMe3b&scp=85195780206&origin=inward'}], 'prism:url': 'https://api.elsevier.com/content/abstract/scopus_id/85195780206', 'dc:identifier': 'SCOPUS_ID:85195780206', 'eid': '2-s2.0-85195780206', 'dc:title': 'The Bio-physiological Impact of Different Concentrations of Ginger Aqueous Extract in Awassi Ewes', 'dc:creator': 'Abdulazeez S.T.', 'prism:publicationName': 'Egyptian Journal of Veterinary Science(Egypt)', 'prism:issn': '11100222', 'prism:eIssn': '2357089X', 'prism:volume': '56', 'prism:issueIdentifier': '5', 'prism:pageRange': '1099-1104', 'prism:coverDate': '2025-05-01', 'prism:coverDisplayDate': 'May 2025', 'prism:doi': '10.21608/EJVS.2024.279035.1965', 'citedby-count': '0', 'affiliation': [{'@_fa': 'true', 'affilname': 'University of Kirkuk', 'affiliation-city': 'Kirkuk', 'affiliation-country': 'Iraq'}], 'prism:aggregationType': 'Journal', 'subtype': 'ar', 'subtypeDescription': 'Article', 'source-id': '21101149381', 'openaccess': '1', 'openaccessFlag': True, 'freetoread': {'value': [{'$': 'all'}, {'$': 'publisherfree2read'}]}, 'freetoreadLabel': {'value': [{'$': 'All Open Access'}, {'$': 'Bronze'}]}}, {'@_fa': 'true', 'link': [{'@_fa': 'true', '@ref': 'self', '@href': 'https://api.elsevier.com/content/abstract/scopus_id/85195777334'}, {'@_fa': 'true', '@ref': 'author-affiliation', '@href': 'https://api.elsevier.com/content/abstract/scopus_id/85195777334?field=author,affiliation'}, {'@_fa': 'true', '@ref': 'scopus', '@href': 'https://www.scopus.com/inward/record.uri?partnerID=HzOxMe3b&scp=85195777334&origin=inward'}, {'@_fa': 'true', '@ref': 'scopus-citedby', '@href': 'https://www.scopus.com/inward/citedby.uri?partnerID=HzOxMe3b&scp=85195777334&origin=inward'}], 'prism:url': 'https://api.elsevier.com/content/abstract/scopus_id/85195777334', 'dc:identifier': 'SCOPUS_ID:85195777334', 'eid': '2-s2.0-85195777334', 'dc:title': 'Sources and Prevention of Contamination of Raw Chicken Meat in a Poultry Slaughterhouse in Qalyubia, Egypt.', 'dc:creator': 'Sharaf M.', 'prism:publicationName': 'Egyptian Journal of Veterinary Science(Egypt)', 'prism:issn': '11100222', 'prism:eIssn': '2357089X', 'prism:volume': '56', 'prism:issueIdentifier': '5', 'prism:pageRange': '951-960', 'prism:coverDate': '2025-05-01', 'prism:coverDisplayDate': 'May 2025', 'prism:doi': '10.21608/EJVS.2024.277054.1919', 'citedby-count': '0', 'affiliation': [{'@_fa': 'true', 'affilname': 'Faculty of Veteinary Medicine', 'affiliation-city': 'Kafr el-Sheikh', 'affiliation-country': 'Egypt'}], 'prism:aggregationType': 'Journal', 'subtype': 'ar', 'subtypeDescription': 'Article', 'source-id': '21101149381', 'openaccess': '1', 'openaccessFlag': True, 'freetoread': {'value': [{'$': 'all'}, {'$': 'publisherfullgold'}]}, 'freetoreadLabel': {'value': [{'$': 'All Open Access'}, {'$': 'Gold'}]}}, {'@_fa': 'true', 'link': [{'@_fa': 'true', '@ref': 'self', '@href': 'https://api.elsevier.com/content/abstract/scopus_id/85192805438'}, {'@_fa': 'true', '@ref': 'author-affiliation', '@href': 'https://api.elsevier.com/content/abstract/scopus_id/85192805438?field=author,affiliation'}, {'@_fa': 'true', '@ref': 'scopus', '@href': 'https://www.scopus.com/inward/record.uri?partnerID=HzOxMe3b&scp=85192805438&origin=inward'}, {'@_fa': 'true', '@ref': 'scopus-citedby', '@href': 'https://www.scopus.com/inward/citedby.uri?partnerID=HzOxMe3b&scp=85192805438&origin=inward'}, {'@_fa': 'true', '@ref': 'full-text', '@href': 'https://api.elsevier.com/content/article/eid/1-s2.0-S1001074224002018'}], 'prism:url': 'https://api.elsevier.com/content/abstract/scopus_id/85192805438', 'dc:identifier': 'SCOPUS_ID:85192805438', 'eid': '2-s2.0-85192805438', 'dc:title': 'Green disposal of waste smartphone protective film: Efficiency, mechanism, bench-scale test and secondary waste reutilization', 'dc:creator': 'Chen J.', 'prism:publicationName': 'Journal of Environmental Sciences (China)', 'prism:issn': '10010742', 'prism:eIssn': '18787320', 'prism:volume': '151', 'prism:pageRange': '692-702', 'prism:coverDate': '2025-05-01', 'prism:coverDisplayDate': 'May 2025', 'prism:doi': '10.1016/j.jes.2024.04.022', 'pii': 'S1001074224002018', 'citedby-count': '0', 'affiliation': [{'@_fa': 'true', 'affilname': 'Guangdong University of Technology', 'affiliation-city': 'Guangzhou', 'affiliation-country': 'China'}], 'prism:aggregationType': 'Journal', 'subtype': 'ar', 'subtypeDescription': 'Article', 'source-id': '23393', 'openaccess': '0', 'openaccessFlag': False}]}}\n",
            "Nombre total de publications trouvées: 13851595\n",
            "Nombre de publications sur la page actuelle: 25\n"
          ]
        }
      ]
    },
    {
      "cell_type": "markdown",
      "source": [
        "# requete pour cree notre daaset et la transformer en dataframe grace a **pandas**"
      ],
      "metadata": {
        "id": "xNL7-bQ5kS4C"
      }
    },
    {
      "cell_type": "code",
      "source": [
        "base_params = {\n",
        "    'query': 'ALL(test)',  # Requête de test\n",
        "    'apiKey': api_key,\n",
        "    'count': 25,  # Nombre de résultats par page\n",
        "    'start': 0   # Index de départ\n",
        "}\n",
        "\n",
        "# Initialiser la liste pour accumuler les entrées\n",
        "all_entries = []\n",
        "\n",
        "# Nombre de publications à récupérer par requête\n",
        "batch_size = 25\n",
        "# Nombre total de publications à récupérer\n",
        "target_sample_size = 1000\n",
        "\n",
        "while len(all_entries) < target_sample_size:\n",
        "    # Ajuster le paramètre start pour chaque itération\n",
        "    params = base_params.copy()\n",
        "    params['start'] = random.randint(0, 5000)  # Randomize the start index to simulate random sampling\n",
        "\n",
        "    # Envoyer la requête\n",
        "    response = requests.get(url, headers=headers, params=params)\n",
        "\n",
        "    # Vérifier le statut de la réponse\n",
        "    if response.status_code == 200:\n",
        "        response_json = response.json()\n",
        "\n",
        "        # Récupérer les entrées\n",
        "        entries = response_json.get('search-results', {}).get('entry', [])\n",
        "\n",
        "        # Ajouter les nouvelles entrées à la liste\n",
        "        all_entries.extend(entries)\n",
        "\n",
        "        # Arrêter si nous avons atteint ou dépassé le nombre d'entrées cible\n",
        "        if len(all_entries) >= target_sample_size:\n",
        "            break\n",
        "    else:\n",
        "        print(\"Erreur lors de la récupération des données:\", response.status_code)\n",
        "        print(\"Message d'erreur:\", response.text)\n",
        "        break\n",
        "\n",
        "print(f\"Nombre total de publications récupérées: {len(all_entries)}\")\n",
        "\n",
        "# Sélectionner un échantillon aléatoire de 200 publications parmi les entrées accumulées\n",
        "sample_entries = random.sample(all_entries, min(target_sample_size, len(all_entries)))\n"
      ],
      "metadata": {
        "colab": {
          "base_uri": "https://localhost:8080/"
        },
        "id": "Xzz-AhSJmJHc",
        "outputId": "aa59af0d-9f3a-4c51-d6ea-600d1cd221ab"
      },
      "execution_count": null,
      "outputs": [
        {
          "output_type": "stream",
          "name": "stdout",
          "text": [
            "Nombre total de publications récupérées: 1000\n"
          ]
        }
      ]
    },
    {
      "cell_type": "markdown",
      "source": [
        "# transformer les données recuperer en dataframe a l'aide de pandas"
      ],
      "metadata": {
        "id": "1-hAIx0sre2f"
      }
    },
    {
      "cell_type": "code",
      "source": [
        "# Extraire les données nécessaires des entrées échantillonnées\n",
        "data = []\n",
        "for entry in sample_entries:\n",
        "    publication = {\n",
        "        'title': entry.get('dc:title'),\n",
        "        'creator': entry.get('dc:creator'),\n",
        "        'publicationName': entry.get('prism:publicationName'),\n",
        "        'coverDate': entry.get('prism:coverDate'),\n",
        "        'doi': entry.get('prism:doi'),\n",
        "        'citedby_count': entry.get('citedby-count', 0),\n",
        "    }\n",
        "    data.append(publication)\n",
        "\n",
        "# Créer une DataFrame\n",
        "df = pd.DataFrame(data)\n",
        "\n",
        "# Afficher la DataFrame\n",
        "df.head()"
      ],
      "metadata": {
        "colab": {
          "base_uri": "https://localhost:8080/",
          "height": 293
        },
        "id": "P0IulwkkreSc",
        "outputId": "b5aa4643-2d14-475f-e8ba-f2df45cfa525"
      },
      "execution_count": null,
      "outputs": [
        {
          "output_type": "execute_result",
          "data": {
            "text/plain": [
              "                                               title              creator  \\\n",
              "0  Dysbiosis not observed in Canadian horse with ...          Wester R.J.   \n",
              "1  Relationship between ion currents and membrane...           Horváth B.   \n",
              "2  Familial risk for depression is associated wit...        Dell’Acqua C.   \n",
              "3  Effect of swab and surge pressure on the time-...  Kamgue Lenwoue A.R.   \n",
              "4  Anomalously weak intensity of tropical cyclone...              Yang Y.   \n",
              "\n",
              "                                     publicationName   coverDate  \\\n",
              "0                                 Scientific Reports  2024-12-01   \n",
              "1                                 Scientific Reports  2024-12-01   \n",
              "2                           Translational Psychiatry  2024-12-01   \n",
              "3  Geomechanics and Geophysics for Geo-Energy and...  2024-12-01   \n",
              "4                npj Climate and Atmospheric Science  2024-12-01   \n",
              "\n",
              "                          doi citedby_count  \n",
              "0  10.1038/s41598-024-63868-1             0  \n",
              "1  10.1038/s41598-024-61736-6             0  \n",
              "2  10.1038/s41398-024-02925-9             0  \n",
              "3  10.1007/s40948-024-00793-7             0  \n",
              "4  10.1038/s41612-024-00656-8             0  "
            ],
            "text/html": [
              "\n",
              "  <div id=\"df-a7fe4405-eb1e-49b8-afab-2bdd8f627f65\" class=\"colab-df-container\">\n",
              "    <div>\n",
              "<style scoped>\n",
              "    .dataframe tbody tr th:only-of-type {\n",
              "        vertical-align: middle;\n",
              "    }\n",
              "\n",
              "    .dataframe tbody tr th {\n",
              "        vertical-align: top;\n",
              "    }\n",
              "\n",
              "    .dataframe thead th {\n",
              "        text-align: right;\n",
              "    }\n",
              "</style>\n",
              "<table border=\"1\" class=\"dataframe\">\n",
              "  <thead>\n",
              "    <tr style=\"text-align: right;\">\n",
              "      <th></th>\n",
              "      <th>title</th>\n",
              "      <th>creator</th>\n",
              "      <th>publicationName</th>\n",
              "      <th>coverDate</th>\n",
              "      <th>doi</th>\n",
              "      <th>citedby_count</th>\n",
              "    </tr>\n",
              "  </thead>\n",
              "  <tbody>\n",
              "    <tr>\n",
              "      <th>0</th>\n",
              "      <td>Dysbiosis not observed in Canadian horse with ...</td>\n",
              "      <td>Wester R.J.</td>\n",
              "      <td>Scientific Reports</td>\n",
              "      <td>2024-12-01</td>\n",
              "      <td>10.1038/s41598-024-63868-1</td>\n",
              "      <td>0</td>\n",
              "    </tr>\n",
              "    <tr>\n",
              "      <th>1</th>\n",
              "      <td>Relationship between ion currents and membrane...</td>\n",
              "      <td>Horváth B.</td>\n",
              "      <td>Scientific Reports</td>\n",
              "      <td>2024-12-01</td>\n",
              "      <td>10.1038/s41598-024-61736-6</td>\n",
              "      <td>0</td>\n",
              "    </tr>\n",
              "    <tr>\n",
              "      <th>2</th>\n",
              "      <td>Familial risk for depression is associated wit...</td>\n",
              "      <td>Dell’Acqua C.</td>\n",
              "      <td>Translational Psychiatry</td>\n",
              "      <td>2024-12-01</td>\n",
              "      <td>10.1038/s41398-024-02925-9</td>\n",
              "      <td>0</td>\n",
              "    </tr>\n",
              "    <tr>\n",
              "      <th>3</th>\n",
              "      <td>Effect of swab and surge pressure on the time-...</td>\n",
              "      <td>Kamgue Lenwoue A.R.</td>\n",
              "      <td>Geomechanics and Geophysics for Geo-Energy and...</td>\n",
              "      <td>2024-12-01</td>\n",
              "      <td>10.1007/s40948-024-00793-7</td>\n",
              "      <td>0</td>\n",
              "    </tr>\n",
              "    <tr>\n",
              "      <th>4</th>\n",
              "      <td>Anomalously weak intensity of tropical cyclone...</td>\n",
              "      <td>Yang Y.</td>\n",
              "      <td>npj Climate and Atmospheric Science</td>\n",
              "      <td>2024-12-01</td>\n",
              "      <td>10.1038/s41612-024-00656-8</td>\n",
              "      <td>0</td>\n",
              "    </tr>\n",
              "  </tbody>\n",
              "</table>\n",
              "</div>\n",
              "    <div class=\"colab-df-buttons\">\n",
              "\n",
              "  <div class=\"colab-df-container\">\n",
              "    <button class=\"colab-df-convert\" onclick=\"convertToInteractive('df-a7fe4405-eb1e-49b8-afab-2bdd8f627f65')\"\n",
              "            title=\"Convert this dataframe to an interactive table.\"\n",
              "            style=\"display:none;\">\n",
              "\n",
              "  <svg xmlns=\"http://www.w3.org/2000/svg\" height=\"24px\" viewBox=\"0 -960 960 960\">\n",
              "    <path d=\"M120-120v-720h720v720H120Zm60-500h600v-160H180v160Zm220 220h160v-160H400v160Zm0 220h160v-160H400v160ZM180-400h160v-160H180v160Zm440 0h160v-160H620v160ZM180-180h160v-160H180v160Zm440 0h160v-160H620v160Z\"/>\n",
              "  </svg>\n",
              "    </button>\n",
              "\n",
              "  <style>\n",
              "    .colab-df-container {\n",
              "      display:flex;\n",
              "      gap: 12px;\n",
              "    }\n",
              "\n",
              "    .colab-df-convert {\n",
              "      background-color: #E8F0FE;\n",
              "      border: none;\n",
              "      border-radius: 50%;\n",
              "      cursor: pointer;\n",
              "      display: none;\n",
              "      fill: #1967D2;\n",
              "      height: 32px;\n",
              "      padding: 0 0 0 0;\n",
              "      width: 32px;\n",
              "    }\n",
              "\n",
              "    .colab-df-convert:hover {\n",
              "      background-color: #E2EBFA;\n",
              "      box-shadow: 0px 1px 2px rgba(60, 64, 67, 0.3), 0px 1px 3px 1px rgba(60, 64, 67, 0.15);\n",
              "      fill: #174EA6;\n",
              "    }\n",
              "\n",
              "    .colab-df-buttons div {\n",
              "      margin-bottom: 4px;\n",
              "    }\n",
              "\n",
              "    [theme=dark] .colab-df-convert {\n",
              "      background-color: #3B4455;\n",
              "      fill: #D2E3FC;\n",
              "    }\n",
              "\n",
              "    [theme=dark] .colab-df-convert:hover {\n",
              "      background-color: #434B5C;\n",
              "      box-shadow: 0px 1px 3px 1px rgba(0, 0, 0, 0.15);\n",
              "      filter: drop-shadow(0px 1px 2px rgba(0, 0, 0, 0.3));\n",
              "      fill: #FFFFFF;\n",
              "    }\n",
              "  </style>\n",
              "\n",
              "    <script>\n",
              "      const buttonEl =\n",
              "        document.querySelector('#df-a7fe4405-eb1e-49b8-afab-2bdd8f627f65 button.colab-df-convert');\n",
              "      buttonEl.style.display =\n",
              "        google.colab.kernel.accessAllowed ? 'block' : 'none';\n",
              "\n",
              "      async function convertToInteractive(key) {\n",
              "        const element = document.querySelector('#df-a7fe4405-eb1e-49b8-afab-2bdd8f627f65');\n",
              "        const dataTable =\n",
              "          await google.colab.kernel.invokeFunction('convertToInteractive',\n",
              "                                                    [key], {});\n",
              "        if (!dataTable) return;\n",
              "\n",
              "        const docLinkHtml = 'Like what you see? Visit the ' +\n",
              "          '<a target=\"_blank\" href=https://colab.research.google.com/notebooks/data_table.ipynb>data table notebook</a>'\n",
              "          + ' to learn more about interactive tables.';\n",
              "        element.innerHTML = '';\n",
              "        dataTable['output_type'] = 'display_data';\n",
              "        await google.colab.output.renderOutput(dataTable, element);\n",
              "        const docLink = document.createElement('div');\n",
              "        docLink.innerHTML = docLinkHtml;\n",
              "        element.appendChild(docLink);\n",
              "      }\n",
              "    </script>\n",
              "  </div>\n",
              "\n",
              "\n",
              "<div id=\"df-d914e247-3214-44c7-899b-0c21f85c3dc7\">\n",
              "  <button class=\"colab-df-quickchart\" onclick=\"quickchart('df-d914e247-3214-44c7-899b-0c21f85c3dc7')\"\n",
              "            title=\"Suggest charts\"\n",
              "            style=\"display:none;\">\n",
              "\n",
              "<svg xmlns=\"http://www.w3.org/2000/svg\" height=\"24px\"viewBox=\"0 0 24 24\"\n",
              "     width=\"24px\">\n",
              "    <g>\n",
              "        <path d=\"M19 3H5c-1.1 0-2 .9-2 2v14c0 1.1.9 2 2 2h14c1.1 0 2-.9 2-2V5c0-1.1-.9-2-2-2zM9 17H7v-7h2v7zm4 0h-2V7h2v10zm4 0h-2v-4h2v4z\"/>\n",
              "    </g>\n",
              "</svg>\n",
              "  </button>\n",
              "\n",
              "<style>\n",
              "  .colab-df-quickchart {\n",
              "      --bg-color: #E8F0FE;\n",
              "      --fill-color: #1967D2;\n",
              "      --hover-bg-color: #E2EBFA;\n",
              "      --hover-fill-color: #174EA6;\n",
              "      --disabled-fill-color: #AAA;\n",
              "      --disabled-bg-color: #DDD;\n",
              "  }\n",
              "\n",
              "  [theme=dark] .colab-df-quickchart {\n",
              "      --bg-color: #3B4455;\n",
              "      --fill-color: #D2E3FC;\n",
              "      --hover-bg-color: #434B5C;\n",
              "      --hover-fill-color: #FFFFFF;\n",
              "      --disabled-bg-color: #3B4455;\n",
              "      --disabled-fill-color: #666;\n",
              "  }\n",
              "\n",
              "  .colab-df-quickchart {\n",
              "    background-color: var(--bg-color);\n",
              "    border: none;\n",
              "    border-radius: 50%;\n",
              "    cursor: pointer;\n",
              "    display: none;\n",
              "    fill: var(--fill-color);\n",
              "    height: 32px;\n",
              "    padding: 0;\n",
              "    width: 32px;\n",
              "  }\n",
              "\n",
              "  .colab-df-quickchart:hover {\n",
              "    background-color: var(--hover-bg-color);\n",
              "    box-shadow: 0 1px 2px rgba(60, 64, 67, 0.3), 0 1px 3px 1px rgba(60, 64, 67, 0.15);\n",
              "    fill: var(--button-hover-fill-color);\n",
              "  }\n",
              "\n",
              "  .colab-df-quickchart-complete:disabled,\n",
              "  .colab-df-quickchart-complete:disabled:hover {\n",
              "    background-color: var(--disabled-bg-color);\n",
              "    fill: var(--disabled-fill-color);\n",
              "    box-shadow: none;\n",
              "  }\n",
              "\n",
              "  .colab-df-spinner {\n",
              "    border: 2px solid var(--fill-color);\n",
              "    border-color: transparent;\n",
              "    border-bottom-color: var(--fill-color);\n",
              "    animation:\n",
              "      spin 1s steps(1) infinite;\n",
              "  }\n",
              "\n",
              "  @keyframes spin {\n",
              "    0% {\n",
              "      border-color: transparent;\n",
              "      border-bottom-color: var(--fill-color);\n",
              "      border-left-color: var(--fill-color);\n",
              "    }\n",
              "    20% {\n",
              "      border-color: transparent;\n",
              "      border-left-color: var(--fill-color);\n",
              "      border-top-color: var(--fill-color);\n",
              "    }\n",
              "    30% {\n",
              "      border-color: transparent;\n",
              "      border-left-color: var(--fill-color);\n",
              "      border-top-color: var(--fill-color);\n",
              "      border-right-color: var(--fill-color);\n",
              "    }\n",
              "    40% {\n",
              "      border-color: transparent;\n",
              "      border-right-color: var(--fill-color);\n",
              "      border-top-color: var(--fill-color);\n",
              "    }\n",
              "    60% {\n",
              "      border-color: transparent;\n",
              "      border-right-color: var(--fill-color);\n",
              "    }\n",
              "    80% {\n",
              "      border-color: transparent;\n",
              "      border-right-color: var(--fill-color);\n",
              "      border-bottom-color: var(--fill-color);\n",
              "    }\n",
              "    90% {\n",
              "      border-color: transparent;\n",
              "      border-bottom-color: var(--fill-color);\n",
              "    }\n",
              "  }\n",
              "</style>\n",
              "\n",
              "  <script>\n",
              "    async function quickchart(key) {\n",
              "      const quickchartButtonEl =\n",
              "        document.querySelector('#' + key + ' button');\n",
              "      quickchartButtonEl.disabled = true;  // To prevent multiple clicks.\n",
              "      quickchartButtonEl.classList.add('colab-df-spinner');\n",
              "      try {\n",
              "        const charts = await google.colab.kernel.invokeFunction(\n",
              "            'suggestCharts', [key], {});\n",
              "      } catch (error) {\n",
              "        console.error('Error during call to suggestCharts:', error);\n",
              "      }\n",
              "      quickchartButtonEl.classList.remove('colab-df-spinner');\n",
              "      quickchartButtonEl.classList.add('colab-df-quickchart-complete');\n",
              "    }\n",
              "    (() => {\n",
              "      let quickchartButtonEl =\n",
              "        document.querySelector('#df-d914e247-3214-44c7-899b-0c21f85c3dc7 button');\n",
              "      quickchartButtonEl.style.display =\n",
              "        google.colab.kernel.accessAllowed ? 'block' : 'none';\n",
              "    })();\n",
              "  </script>\n",
              "</div>\n",
              "\n",
              "    </div>\n",
              "  </div>\n"
            ],
            "application/vnd.google.colaboratory.intrinsic+json": {
              "type": "dataframe",
              "variable_name": "df",
              "summary": "{\n  \"name\": \"df\",\n  \"rows\": 1000,\n  \"fields\": [\n    {\n      \"column\": \"title\",\n      \"properties\": {\n        \"dtype\": \"string\",\n        \"num_unique_values\": 895,\n        \"samples\": [\n          \"Sleep and liver function biomarkers in relation to risk of incident liver cancer: a nationwide prospective cohort study\",\n          \"Behavior of MSE wall under static load with different strips shapes\",\n          \"The circular bioeconomy: a driver for system integration\"\n        ],\n        \"semantic_type\": \"\",\n        \"description\": \"\"\n      }\n    },\n    {\n      \"column\": \"creator\",\n      \"properties\": {\n        \"dtype\": \"string\",\n        \"num_unique_values\": 839,\n        \"samples\": [\n          \"Wang J.\",\n          \"Im E.\",\n          \"Ali J.\"\n        ],\n        \"semantic_type\": \"\",\n        \"description\": \"\"\n      }\n    },\n    {\n      \"column\": \"publicationName\",\n      \"properties\": {\n        \"dtype\": \"category\",\n        \"num_unique_values\": 257,\n        \"samples\": [\n          \"Environmental Sciences Europe\",\n          \"Sensing and Imaging\",\n          \"PEC Innovation\"\n        ],\n        \"semantic_type\": \"\",\n        \"description\": \"\"\n      }\n    },\n    {\n      \"column\": \"coverDate\",\n      \"properties\": {\n        \"dtype\": \"object\",\n        \"num_unique_values\": 12,\n        \"samples\": [\n          \"2024-12-12\",\n          \"2024-12-11\",\n          \"2024-12-01\"\n        ],\n        \"semantic_type\": \"\",\n        \"description\": \"\"\n      }\n    },\n    {\n      \"column\": \"doi\",\n      \"properties\": {\n        \"dtype\": \"string\",\n        \"num_unique_values\": 895,\n        \"samples\": [\n          \"10.1186/s12916-024-03440-w\",\n          \"10.1007/s41024-024-00430-6\",\n          \"10.1186/s13705-024-00461-4\"\n        ],\n        \"semantic_type\": \"\",\n        \"description\": \"\"\n      }\n    },\n    {\n      \"column\": \"citedby_count\",\n      \"properties\": {\n        \"dtype\": \"category\",\n        \"num_unique_values\": 3,\n        \"samples\": [\n          \"0\",\n          \"2\",\n          \"1\"\n        ],\n        \"semantic_type\": \"\",\n        \"description\": \"\"\n      }\n    }\n  ]\n}"
            }
          },
          "metadata": {},
          "execution_count": 55
        }
      ]
    },
    {
      "cell_type": "markdown",
      "source": [
        "# trier la colonne citation par ordre decroissant pour voir les publications avec des citations"
      ],
      "metadata": {
        "id": "CEdCUm0CsY5P"
      }
    },
    {
      "cell_type": "code",
      "source": [
        "# Trier par ordre décroissant en fonction du nombre de citations\n",
        "df_sorted = df.sort_values(by='citedby_count', ascending=False)\n",
        "df_sorted.head(10)"
      ],
      "metadata": {
        "colab": {
          "base_uri": "https://localhost:8080/",
          "height": 363
        },
        "id": "f856LxcbsNKd",
        "outputId": "78018497-6243-4450-e8d7-c0fc5495484e"
      },
      "execution_count": null,
      "outputs": [
        {
          "output_type": "execute_result",
          "data": {
            "text/plain": [
              "                                                 title        creator  \\\n",
              "837  Investigation on cost-effective composites for...    Nguyen H.N.   \n",
              "60   Technology factors and ERP system efficiency i...       Lutfi A.   \n",
              "764  Highly efficient catalytic transfer hydrogenat...          Lu A.   \n",
              "510  Emission control status and future perspective...       Zhang S.   \n",
              "905  Exploring fs-laser irradiation damage subthres...    Bleotu P.G.   \n",
              "606  Delayed reconstruction of the combat-related m...     Osmanov B.   \n",
              "325  Analyzing vegetation health dynamics across se...     Mehmood K.   \n",
              "708  An experimental study of foam-oil interactions...       Bello A.   \n",
              "480  Association between a body shape index and cog...       Zhang Y.   \n",
              "586  The Rapid ASKAP Continuum Survey V: Cataloguin...  Duchesne S.W.   \n",
              "\n",
              "                                       publicationName   coverDate  \\\n",
              "837          Journal of Environmental Sciences (China)  2025-02-01   \n",
              "60       Humanities and Social Sciences Communications  2024-12-01   \n",
              "764          Journal of Environmental Sciences (China)  2025-02-01   \n",
              "510          Journal of Environmental Sciences (China)  2025-02-01   \n",
              "905           High Power Laser Science and Engineering  2024-12-14   \n",
              "606  Journal of Stomatology, Oral and Maxillofacial...  2024-12-01   \n",
              "325                                 Scientific Reports  2024-12-01   \n",
              "708                                 Scientific Reports  2024-12-01   \n",
              "480                       Lipids in Health and Disease  2024-12-01   \n",
              "586  Publications of the Astronomical Society of Au...  2024-12-11   \n",
              "\n",
              "                              doi citedby_count  \n",
              "837     10.1016/j.jes.2023.10.022             2  \n",
              "60     10.1057/s41599-024-03198-9             2  \n",
              "764     10.1016/j.jes.2023.10.010             2  \n",
              "510     10.1016/j.jes.2023.06.010             2  \n",
              "905           10.1017/hpl.2023.98             1  \n",
              "606  10.1016/j.jormas.2024.101794             1  \n",
              "325    10.1038/s41598-024-62464-7             1  \n",
              "708    10.1038/s41598-024-62610-1             1  \n",
              "480    10.1186/s12944-024-02165-2             1  \n",
              "586          10.1017/pasa.2023.60             1  "
            ],
            "text/html": [
              "\n",
              "  <div id=\"df-2cc7d028-1632-466b-89f4-f9b2ee327fbf\" class=\"colab-df-container\">\n",
              "    <div>\n",
              "<style scoped>\n",
              "    .dataframe tbody tr th:only-of-type {\n",
              "        vertical-align: middle;\n",
              "    }\n",
              "\n",
              "    .dataframe tbody tr th {\n",
              "        vertical-align: top;\n",
              "    }\n",
              "\n",
              "    .dataframe thead th {\n",
              "        text-align: right;\n",
              "    }\n",
              "</style>\n",
              "<table border=\"1\" class=\"dataframe\">\n",
              "  <thead>\n",
              "    <tr style=\"text-align: right;\">\n",
              "      <th></th>\n",
              "      <th>title</th>\n",
              "      <th>creator</th>\n",
              "      <th>publicationName</th>\n",
              "      <th>coverDate</th>\n",
              "      <th>doi</th>\n",
              "      <th>citedby_count</th>\n",
              "    </tr>\n",
              "  </thead>\n",
              "  <tbody>\n",
              "    <tr>\n",
              "      <th>837</th>\n",
              "      <td>Investigation on cost-effective composites for...</td>\n",
              "      <td>Nguyen H.N.</td>\n",
              "      <td>Journal of Environmental Sciences (China)</td>\n",
              "      <td>2025-02-01</td>\n",
              "      <td>10.1016/j.jes.2023.10.022</td>\n",
              "      <td>2</td>\n",
              "    </tr>\n",
              "    <tr>\n",
              "      <th>60</th>\n",
              "      <td>Technology factors and ERP system efficiency i...</td>\n",
              "      <td>Lutfi A.</td>\n",
              "      <td>Humanities and Social Sciences Communications</td>\n",
              "      <td>2024-12-01</td>\n",
              "      <td>10.1057/s41599-024-03198-9</td>\n",
              "      <td>2</td>\n",
              "    </tr>\n",
              "    <tr>\n",
              "      <th>764</th>\n",
              "      <td>Highly efficient catalytic transfer hydrogenat...</td>\n",
              "      <td>Lu A.</td>\n",
              "      <td>Journal of Environmental Sciences (China)</td>\n",
              "      <td>2025-02-01</td>\n",
              "      <td>10.1016/j.jes.2023.10.010</td>\n",
              "      <td>2</td>\n",
              "    </tr>\n",
              "    <tr>\n",
              "      <th>510</th>\n",
              "      <td>Emission control status and future perspective...</td>\n",
              "      <td>Zhang S.</td>\n",
              "      <td>Journal of Environmental Sciences (China)</td>\n",
              "      <td>2025-02-01</td>\n",
              "      <td>10.1016/j.jes.2023.06.010</td>\n",
              "      <td>2</td>\n",
              "    </tr>\n",
              "    <tr>\n",
              "      <th>905</th>\n",
              "      <td>Exploring fs-laser irradiation damage subthres...</td>\n",
              "      <td>Bleotu P.G.</td>\n",
              "      <td>High Power Laser Science and Engineering</td>\n",
              "      <td>2024-12-14</td>\n",
              "      <td>10.1017/hpl.2023.98</td>\n",
              "      <td>1</td>\n",
              "    </tr>\n",
              "    <tr>\n",
              "      <th>606</th>\n",
              "      <td>Delayed reconstruction of the combat-related m...</td>\n",
              "      <td>Osmanov B.</td>\n",
              "      <td>Journal of Stomatology, Oral and Maxillofacial...</td>\n",
              "      <td>2024-12-01</td>\n",
              "      <td>10.1016/j.jormas.2024.101794</td>\n",
              "      <td>1</td>\n",
              "    </tr>\n",
              "    <tr>\n",
              "      <th>325</th>\n",
              "      <td>Analyzing vegetation health dynamics across se...</td>\n",
              "      <td>Mehmood K.</td>\n",
              "      <td>Scientific Reports</td>\n",
              "      <td>2024-12-01</td>\n",
              "      <td>10.1038/s41598-024-62464-7</td>\n",
              "      <td>1</td>\n",
              "    </tr>\n",
              "    <tr>\n",
              "      <th>708</th>\n",
              "      <td>An experimental study of foam-oil interactions...</td>\n",
              "      <td>Bello A.</td>\n",
              "      <td>Scientific Reports</td>\n",
              "      <td>2024-12-01</td>\n",
              "      <td>10.1038/s41598-024-62610-1</td>\n",
              "      <td>1</td>\n",
              "    </tr>\n",
              "    <tr>\n",
              "      <th>480</th>\n",
              "      <td>Association between a body shape index and cog...</td>\n",
              "      <td>Zhang Y.</td>\n",
              "      <td>Lipids in Health and Disease</td>\n",
              "      <td>2024-12-01</td>\n",
              "      <td>10.1186/s12944-024-02165-2</td>\n",
              "      <td>1</td>\n",
              "    </tr>\n",
              "    <tr>\n",
              "      <th>586</th>\n",
              "      <td>The Rapid ASKAP Continuum Survey V: Cataloguin...</td>\n",
              "      <td>Duchesne S.W.</td>\n",
              "      <td>Publications of the Astronomical Society of Au...</td>\n",
              "      <td>2024-12-11</td>\n",
              "      <td>10.1017/pasa.2023.60</td>\n",
              "      <td>1</td>\n",
              "    </tr>\n",
              "  </tbody>\n",
              "</table>\n",
              "</div>\n",
              "    <div class=\"colab-df-buttons\">\n",
              "\n",
              "  <div class=\"colab-df-container\">\n",
              "    <button class=\"colab-df-convert\" onclick=\"convertToInteractive('df-2cc7d028-1632-466b-89f4-f9b2ee327fbf')\"\n",
              "            title=\"Convert this dataframe to an interactive table.\"\n",
              "            style=\"display:none;\">\n",
              "\n",
              "  <svg xmlns=\"http://www.w3.org/2000/svg\" height=\"24px\" viewBox=\"0 -960 960 960\">\n",
              "    <path d=\"M120-120v-720h720v720H120Zm60-500h600v-160H180v160Zm220 220h160v-160H400v160Zm0 220h160v-160H400v160ZM180-400h160v-160H180v160Zm440 0h160v-160H620v160ZM180-180h160v-160H180v160Zm440 0h160v-160H620v160Z\"/>\n",
              "  </svg>\n",
              "    </button>\n",
              "\n",
              "  <style>\n",
              "    .colab-df-container {\n",
              "      display:flex;\n",
              "      gap: 12px;\n",
              "    }\n",
              "\n",
              "    .colab-df-convert {\n",
              "      background-color: #E8F0FE;\n",
              "      border: none;\n",
              "      border-radius: 50%;\n",
              "      cursor: pointer;\n",
              "      display: none;\n",
              "      fill: #1967D2;\n",
              "      height: 32px;\n",
              "      padding: 0 0 0 0;\n",
              "      width: 32px;\n",
              "    }\n",
              "\n",
              "    .colab-df-convert:hover {\n",
              "      background-color: #E2EBFA;\n",
              "      box-shadow: 0px 1px 2px rgba(60, 64, 67, 0.3), 0px 1px 3px 1px rgba(60, 64, 67, 0.15);\n",
              "      fill: #174EA6;\n",
              "    }\n",
              "\n",
              "    .colab-df-buttons div {\n",
              "      margin-bottom: 4px;\n",
              "    }\n",
              "\n",
              "    [theme=dark] .colab-df-convert {\n",
              "      background-color: #3B4455;\n",
              "      fill: #D2E3FC;\n",
              "    }\n",
              "\n",
              "    [theme=dark] .colab-df-convert:hover {\n",
              "      background-color: #434B5C;\n",
              "      box-shadow: 0px 1px 3px 1px rgba(0, 0, 0, 0.15);\n",
              "      filter: drop-shadow(0px 1px 2px rgba(0, 0, 0, 0.3));\n",
              "      fill: #FFFFFF;\n",
              "    }\n",
              "  </style>\n",
              "\n",
              "    <script>\n",
              "      const buttonEl =\n",
              "        document.querySelector('#df-2cc7d028-1632-466b-89f4-f9b2ee327fbf button.colab-df-convert');\n",
              "      buttonEl.style.display =\n",
              "        google.colab.kernel.accessAllowed ? 'block' : 'none';\n",
              "\n",
              "      async function convertToInteractive(key) {\n",
              "        const element = document.querySelector('#df-2cc7d028-1632-466b-89f4-f9b2ee327fbf');\n",
              "        const dataTable =\n",
              "          await google.colab.kernel.invokeFunction('convertToInteractive',\n",
              "                                                    [key], {});\n",
              "        if (!dataTable) return;\n",
              "\n",
              "        const docLinkHtml = 'Like what you see? Visit the ' +\n",
              "          '<a target=\"_blank\" href=https://colab.research.google.com/notebooks/data_table.ipynb>data table notebook</a>'\n",
              "          + ' to learn more about interactive tables.';\n",
              "        element.innerHTML = '';\n",
              "        dataTable['output_type'] = 'display_data';\n",
              "        await google.colab.output.renderOutput(dataTable, element);\n",
              "        const docLink = document.createElement('div');\n",
              "        docLink.innerHTML = docLinkHtml;\n",
              "        element.appendChild(docLink);\n",
              "      }\n",
              "    </script>\n",
              "  </div>\n",
              "\n",
              "\n",
              "<div id=\"df-76c2bb5d-fa28-43f4-ae81-66d012e50a32\">\n",
              "  <button class=\"colab-df-quickchart\" onclick=\"quickchart('df-76c2bb5d-fa28-43f4-ae81-66d012e50a32')\"\n",
              "            title=\"Suggest charts\"\n",
              "            style=\"display:none;\">\n",
              "\n",
              "<svg xmlns=\"http://www.w3.org/2000/svg\" height=\"24px\"viewBox=\"0 0 24 24\"\n",
              "     width=\"24px\">\n",
              "    <g>\n",
              "        <path d=\"M19 3H5c-1.1 0-2 .9-2 2v14c0 1.1.9 2 2 2h14c1.1 0 2-.9 2-2V5c0-1.1-.9-2-2-2zM9 17H7v-7h2v7zm4 0h-2V7h2v10zm4 0h-2v-4h2v4z\"/>\n",
              "    </g>\n",
              "</svg>\n",
              "  </button>\n",
              "\n",
              "<style>\n",
              "  .colab-df-quickchart {\n",
              "      --bg-color: #E8F0FE;\n",
              "      --fill-color: #1967D2;\n",
              "      --hover-bg-color: #E2EBFA;\n",
              "      --hover-fill-color: #174EA6;\n",
              "      --disabled-fill-color: #AAA;\n",
              "      --disabled-bg-color: #DDD;\n",
              "  }\n",
              "\n",
              "  [theme=dark] .colab-df-quickchart {\n",
              "      --bg-color: #3B4455;\n",
              "      --fill-color: #D2E3FC;\n",
              "      --hover-bg-color: #434B5C;\n",
              "      --hover-fill-color: #FFFFFF;\n",
              "      --disabled-bg-color: #3B4455;\n",
              "      --disabled-fill-color: #666;\n",
              "  }\n",
              "\n",
              "  .colab-df-quickchart {\n",
              "    background-color: var(--bg-color);\n",
              "    border: none;\n",
              "    border-radius: 50%;\n",
              "    cursor: pointer;\n",
              "    display: none;\n",
              "    fill: var(--fill-color);\n",
              "    height: 32px;\n",
              "    padding: 0;\n",
              "    width: 32px;\n",
              "  }\n",
              "\n",
              "  .colab-df-quickchart:hover {\n",
              "    background-color: var(--hover-bg-color);\n",
              "    box-shadow: 0 1px 2px rgba(60, 64, 67, 0.3), 0 1px 3px 1px rgba(60, 64, 67, 0.15);\n",
              "    fill: var(--button-hover-fill-color);\n",
              "  }\n",
              "\n",
              "  .colab-df-quickchart-complete:disabled,\n",
              "  .colab-df-quickchart-complete:disabled:hover {\n",
              "    background-color: var(--disabled-bg-color);\n",
              "    fill: var(--disabled-fill-color);\n",
              "    box-shadow: none;\n",
              "  }\n",
              "\n",
              "  .colab-df-spinner {\n",
              "    border: 2px solid var(--fill-color);\n",
              "    border-color: transparent;\n",
              "    border-bottom-color: var(--fill-color);\n",
              "    animation:\n",
              "      spin 1s steps(1) infinite;\n",
              "  }\n",
              "\n",
              "  @keyframes spin {\n",
              "    0% {\n",
              "      border-color: transparent;\n",
              "      border-bottom-color: var(--fill-color);\n",
              "      border-left-color: var(--fill-color);\n",
              "    }\n",
              "    20% {\n",
              "      border-color: transparent;\n",
              "      border-left-color: var(--fill-color);\n",
              "      border-top-color: var(--fill-color);\n",
              "    }\n",
              "    30% {\n",
              "      border-color: transparent;\n",
              "      border-left-color: var(--fill-color);\n",
              "      border-top-color: var(--fill-color);\n",
              "      border-right-color: var(--fill-color);\n",
              "    }\n",
              "    40% {\n",
              "      border-color: transparent;\n",
              "      border-right-color: var(--fill-color);\n",
              "      border-top-color: var(--fill-color);\n",
              "    }\n",
              "    60% {\n",
              "      border-color: transparent;\n",
              "      border-right-color: var(--fill-color);\n",
              "    }\n",
              "    80% {\n",
              "      border-color: transparent;\n",
              "      border-right-color: var(--fill-color);\n",
              "      border-bottom-color: var(--fill-color);\n",
              "    }\n",
              "    90% {\n",
              "      border-color: transparent;\n",
              "      border-bottom-color: var(--fill-color);\n",
              "    }\n",
              "  }\n",
              "</style>\n",
              "\n",
              "  <script>\n",
              "    async function quickchart(key) {\n",
              "      const quickchartButtonEl =\n",
              "        document.querySelector('#' + key + ' button');\n",
              "      quickchartButtonEl.disabled = true;  // To prevent multiple clicks.\n",
              "      quickchartButtonEl.classList.add('colab-df-spinner');\n",
              "      try {\n",
              "        const charts = await google.colab.kernel.invokeFunction(\n",
              "            'suggestCharts', [key], {});\n",
              "      } catch (error) {\n",
              "        console.error('Error during call to suggestCharts:', error);\n",
              "      }\n",
              "      quickchartButtonEl.classList.remove('colab-df-spinner');\n",
              "      quickchartButtonEl.classList.add('colab-df-quickchart-complete');\n",
              "    }\n",
              "    (() => {\n",
              "      let quickchartButtonEl =\n",
              "        document.querySelector('#df-76c2bb5d-fa28-43f4-ae81-66d012e50a32 button');\n",
              "      quickchartButtonEl.style.display =\n",
              "        google.colab.kernel.accessAllowed ? 'block' : 'none';\n",
              "    })();\n",
              "  </script>\n",
              "</div>\n",
              "\n",
              "    </div>\n",
              "  </div>\n"
            ],
            "application/vnd.google.colaboratory.intrinsic+json": {
              "type": "dataframe",
              "variable_name": "df_sorted",
              "summary": "{\n  \"name\": \"df_sorted\",\n  \"rows\": 1000,\n  \"fields\": [\n    {\n      \"column\": \"title\",\n      \"properties\": {\n        \"dtype\": \"string\",\n        \"num_unique_values\": 895,\n        \"samples\": [\n          \"Development and validation of an instrument for measuring civic scientific literacy\",\n          \"The impact of aquaculture economics expansion on marine water quality in the EU Region\",\n          \"Root-to-shoot signaling positively mediates source-sink relation in late growth stages in diploid and tetraploid wheat\"\n        ],\n        \"semantic_type\": \"\",\n        \"description\": \"\"\n      }\n    },\n    {\n      \"column\": \"creator\",\n      \"properties\": {\n        \"dtype\": \"string\",\n        \"num_unique_values\": 839,\n        \"samples\": [\n          \"Graf D.\",\n          \"Gan J.\",\n          \"Xu D.\"\n        ],\n        \"semantic_type\": \"\",\n        \"description\": \"\"\n      }\n    },\n    {\n      \"column\": \"publicationName\",\n      \"properties\": {\n        \"dtype\": \"category\",\n        \"num_unique_values\": 257,\n        \"samples\": [\n          \"International Journal of Education and Practice\",\n          \"BMC Cardiovascular Disorders\",\n          \"Journal of Pathology Informatics\"\n        ],\n        \"semantic_type\": \"\",\n        \"description\": \"\"\n      }\n    },\n    {\n      \"column\": \"coverDate\",\n      \"properties\": {\n        \"dtype\": \"object\",\n        \"num_unique_values\": 12,\n        \"samples\": [\n          \"2024-12-12\",\n          \"2024-12-13\",\n          \"2025-02-01\"\n        ],\n        \"semantic_type\": \"\",\n        \"description\": \"\"\n      }\n    },\n    {\n      \"column\": \"doi\",\n      \"properties\": {\n        \"dtype\": \"string\",\n        \"num_unique_values\": 895,\n        \"samples\": [\n          \"10.1186/s43031-023-00092-3\",\n          \"10.1016/j.rsma.2024.103625\",\n          \"10.1186/s12870-024-05046-z\"\n        ],\n        \"semantic_type\": \"\",\n        \"description\": \"\"\n      }\n    },\n    {\n      \"column\": \"citedby_count\",\n      \"properties\": {\n        \"dtype\": \"category\",\n        \"num_unique_values\": 3,\n        \"samples\": [\n          \"2\",\n          \"1\",\n          \"0\"\n        ],\n        \"semantic_type\": \"\",\n        \"description\": \"\"\n      }\n    }\n  ]\n}"
            }
          },
          "metadata": {},
          "execution_count": 58
        }
      ]
    },
    {
      "cell_type": "markdown",
      "source": [
        "# analyse des données recuperer"
      ],
      "metadata": {
        "id": "3SkX3BAHuNwn"
      }
    },
    {
      "cell_type": "markdown",
      "source": [
        "# Calculer le nombre total de publications dans la dataset\n",
        "Pour calculer le nombre total de publications, nous utiliserons simplement la méthode .shape de Pandas, qui nous donnera le nombre de lignes (publications) dans notre DataFrame."
      ],
      "metadata": {
        "id": "05V0mnND9Vuy"
      }
    },
    {
      "cell_type": "code",
      "source": [
        "def total_publications(df):\n",
        "    return df.shape[0]\n",
        "\n",
        "# Tester la fonction\n",
        "total_pubs = total_publications(df)\n",
        "print(f\"Nombre total de publications dans la dataset : {total_pubs}\")"
      ],
      "metadata": {
        "colab": {
          "base_uri": "https://localhost:8080/"
        },
        "id": "Xgh8cRTZt-2g",
        "outputId": "862fc30e-fa37-4c01-b923-3cc348b4424c"
      },
      "execution_count": null,
      "outputs": [
        {
          "output_type": "stream",
          "name": "stdout",
          "text": [
            "Nombre total de publications dans la dataset : 1000\n"
          ]
        }
      ]
    },
    {
      "cell_type": "markdown",
      "source": [
        "# Calculer le nombre total de citations de toutes les publications\n",
        "Pour obtenir le nombre total de citations, nous allons sumer la colonne citedby_count de notre DataFrame."
      ],
      "metadata": {
        "id": "_QrpVsc59wIG"
      }
    },
    {
      "cell_type": "code",
      "source": [
        "def total_citations(df):\n",
        "    # Convertir citedby_count en nombres entiers pour s'assurer qu'ils sont valides\n",
        "    df['citedby_count'] = pd.to_numeric(df['citedby_count'], errors='coerce')\n",
        "\n",
        "    # Calculer la somme des citations\n",
        "    total_cit = df['citedby_count'].sum()\n",
        "\n",
        "    return total_cit\n",
        "\n",
        "# Tester la fonction corrigée\n",
        "total_cit = total_citations(df)\n",
        "print(f\"Nombre total de citations de toutes les publications : {total_cit}\")"
      ],
      "metadata": {
        "colab": {
          "base_uri": "https://localhost:8080/"
        },
        "id": "G2EwURDw92p6",
        "outputId": "cd72b486-2ecc-478e-cada-424076e00f34"
      },
      "execution_count": null,
      "outputs": [
        {
          "output_type": "stream",
          "name": "stdout",
          "text": [
            "Nombre total de citations de toutes les publications : 18\n"
          ]
        }
      ]
    },
    {
      "cell_type": "markdown",
      "source": [
        "# classer les publications par nombre de citations"
      ],
      "metadata": {
        "id": "AR1CLH2QLntp"
      }
    },
    {
      "cell_type": "code",
      "source": [
        "def count_publications_by_citations(df):\n",
        "    # Convertir citedby_count en nombres entiers pour s'assurer qu'ils sont valides\n",
        "    df['citedby_count'] = pd.to_numeric(df['citedby_count'], errors='coerce')\n",
        "\n",
        "    # Compter le nombre de publications par nombre de citations\n",
        "    citation_counts = df['citedby_count'].value_counts().sort_index()\n",
        "\n",
        "    return citation_counts\n",
        "\n",
        "# Tester la fonction\n",
        "citation_counts = count_publications_by_citations(df)\n",
        "print(\"Nombre de publications par nombre de citations :\")\n",
        "print(citation_counts)"
      ],
      "metadata": {
        "colab": {
          "base_uri": "https://localhost:8080/"
        },
        "id": "61j3l3PfK7RG",
        "outputId": "797a8043-9e69-43ed-f142-8338071e18f1"
      },
      "execution_count": 92,
      "outputs": [
        {
          "output_type": "stream",
          "name": "stdout",
          "text": [
            "Nombre de publications par nombre de citations :\n",
            "citedby_count\n",
            "0    986\n",
            "1     10\n",
            "2      4\n",
            "Name: count, dtype: int64\n"
          ]
        }
      ]
    },
    {
      "cell_type": "markdown",
      "source": [
        "# Calculer la moyenne des citations par publication\n",
        "Pour calculer la moyenne des citations par publication, nous utiliserons la méthode .mean() sur la colonne citedby_count."
      ],
      "metadata": {
        "id": "FGhWgRN6-Zk9"
      }
    },
    {
      "cell_type": "code",
      "source": [
        "def average_citations_per_publication(df):\n",
        "    # Convertir citedby_count en nombres entiers pour s'assurer qu'ils sont valides\n",
        "    df['citedby_count'] = pd.to_numeric(df['citedby_count'], errors='coerce')\n",
        "\n",
        "    # Calculer la moyenne des citations par publication\n",
        "    avg_citations = df['citedby_count'].mean()\n",
        "\n",
        "    return avg_citations\n",
        "\n",
        "# Tester la fonction corrigée\n",
        "avg_cit = average_citations_per_publication(df)\n",
        "print(f\"Moyenne des citations par publication : {avg_cit:.2f}\")"
      ],
      "metadata": {
        "id": "QMcRy35V-eXC",
        "colab": {
          "base_uri": "https://localhost:8080/"
        },
        "outputId": "3c6fb8a0-99a0-4eb7-a0fc-53448beaed4a"
      },
      "execution_count": null,
      "outputs": [
        {
          "output_type": "stream",
          "name": "stdout",
          "text": [
            "Moyenne des citations par publication : 0.02\n"
          ]
        }
      ]
    },
    {
      "cell_type": "markdown",
      "source": [
        "# Identifier les publications avec le plus de citations\n",
        "Pour identifier les publications avec le plus de citations, nous allons trier notre DataFrame par ordre décroissant sur la colonne citedby_count et sélectionner les premières publications."
      ],
      "metadata": {
        "id": "ruQt6bN0-o8W"
      }
    },
    {
      "cell_type": "code",
      "source": [
        "def publications_with_most_citations(df, n=1):\n",
        "    df_sorted = df.sort_values(by='citedby_count', ascending=False)\n",
        "    return df_sorted.head(n)\n",
        "\n",
        "# Tester la fonction\n",
        "top_citations = publications_with_most_citations(df)\n",
        "print(\"Publications avec le plus de citations :\")\n",
        "top_citations[['title', 'creator', 'publicationName', 'coverDate', 'citedby_count']].head()"
      ],
      "metadata": {
        "id": "KVBMpLxv-pSn",
        "colab": {
          "base_uri": "https://localhost:8080/",
          "height": 98
        },
        "outputId": "018cffee-459e-4090-cc0c-bc6d84ece15d"
      },
      "execution_count": null,
      "outputs": [
        {
          "output_type": "stream",
          "name": "stdout",
          "text": [
            "Publications avec le plus de citations :\n"
          ]
        },
        {
          "output_type": "execute_result",
          "data": {
            "text/plain": [
              "                                                 title      creator  \\\n",
              "837  Investigation on cost-effective composites for...  Nguyen H.N.   \n",
              "\n",
              "                               publicationName   coverDate citedby_count  \n",
              "837  Journal of Environmental Sciences (China)  2025-02-01             2  "
            ],
            "text/html": [
              "\n",
              "  <div id=\"df-4c29273e-bef0-4030-8317-f6589ed4535b\" class=\"colab-df-container\">\n",
              "    <div>\n",
              "<style scoped>\n",
              "    .dataframe tbody tr th:only-of-type {\n",
              "        vertical-align: middle;\n",
              "    }\n",
              "\n",
              "    .dataframe tbody tr th {\n",
              "        vertical-align: top;\n",
              "    }\n",
              "\n",
              "    .dataframe thead th {\n",
              "        text-align: right;\n",
              "    }\n",
              "</style>\n",
              "<table border=\"1\" class=\"dataframe\">\n",
              "  <thead>\n",
              "    <tr style=\"text-align: right;\">\n",
              "      <th></th>\n",
              "      <th>title</th>\n",
              "      <th>creator</th>\n",
              "      <th>publicationName</th>\n",
              "      <th>coverDate</th>\n",
              "      <th>citedby_count</th>\n",
              "    </tr>\n",
              "  </thead>\n",
              "  <tbody>\n",
              "    <tr>\n",
              "      <th>837</th>\n",
              "      <td>Investigation on cost-effective composites for...</td>\n",
              "      <td>Nguyen H.N.</td>\n",
              "      <td>Journal of Environmental Sciences (China)</td>\n",
              "      <td>2025-02-01</td>\n",
              "      <td>2</td>\n",
              "    </tr>\n",
              "  </tbody>\n",
              "</table>\n",
              "</div>\n",
              "    <div class=\"colab-df-buttons\">\n",
              "\n",
              "  <div class=\"colab-df-container\">\n",
              "    <button class=\"colab-df-convert\" onclick=\"convertToInteractive('df-4c29273e-bef0-4030-8317-f6589ed4535b')\"\n",
              "            title=\"Convert this dataframe to an interactive table.\"\n",
              "            style=\"display:none;\">\n",
              "\n",
              "  <svg xmlns=\"http://www.w3.org/2000/svg\" height=\"24px\" viewBox=\"0 -960 960 960\">\n",
              "    <path d=\"M120-120v-720h720v720H120Zm60-500h600v-160H180v160Zm220 220h160v-160H400v160Zm0 220h160v-160H400v160ZM180-400h160v-160H180v160Zm440 0h160v-160H620v160ZM180-180h160v-160H180v160Zm440 0h160v-160H620v160Z\"/>\n",
              "  </svg>\n",
              "    </button>\n",
              "\n",
              "  <style>\n",
              "    .colab-df-container {\n",
              "      display:flex;\n",
              "      gap: 12px;\n",
              "    }\n",
              "\n",
              "    .colab-df-convert {\n",
              "      background-color: #E8F0FE;\n",
              "      border: none;\n",
              "      border-radius: 50%;\n",
              "      cursor: pointer;\n",
              "      display: none;\n",
              "      fill: #1967D2;\n",
              "      height: 32px;\n",
              "      padding: 0 0 0 0;\n",
              "      width: 32px;\n",
              "    }\n",
              "\n",
              "    .colab-df-convert:hover {\n",
              "      background-color: #E2EBFA;\n",
              "      box-shadow: 0px 1px 2px rgba(60, 64, 67, 0.3), 0px 1px 3px 1px rgba(60, 64, 67, 0.15);\n",
              "      fill: #174EA6;\n",
              "    }\n",
              "\n",
              "    .colab-df-buttons div {\n",
              "      margin-bottom: 4px;\n",
              "    }\n",
              "\n",
              "    [theme=dark] .colab-df-convert {\n",
              "      background-color: #3B4455;\n",
              "      fill: #D2E3FC;\n",
              "    }\n",
              "\n",
              "    [theme=dark] .colab-df-convert:hover {\n",
              "      background-color: #434B5C;\n",
              "      box-shadow: 0px 1px 3px 1px rgba(0, 0, 0, 0.15);\n",
              "      filter: drop-shadow(0px 1px 2px rgba(0, 0, 0, 0.3));\n",
              "      fill: #FFFFFF;\n",
              "    }\n",
              "  </style>\n",
              "\n",
              "    <script>\n",
              "      const buttonEl =\n",
              "        document.querySelector('#df-4c29273e-bef0-4030-8317-f6589ed4535b button.colab-df-convert');\n",
              "      buttonEl.style.display =\n",
              "        google.colab.kernel.accessAllowed ? 'block' : 'none';\n",
              "\n",
              "      async function convertToInteractive(key) {\n",
              "        const element = document.querySelector('#df-4c29273e-bef0-4030-8317-f6589ed4535b');\n",
              "        const dataTable =\n",
              "          await google.colab.kernel.invokeFunction('convertToInteractive',\n",
              "                                                    [key], {});\n",
              "        if (!dataTable) return;\n",
              "\n",
              "        const docLinkHtml = 'Like what you see? Visit the ' +\n",
              "          '<a target=\"_blank\" href=https://colab.research.google.com/notebooks/data_table.ipynb>data table notebook</a>'\n",
              "          + ' to learn more about interactive tables.';\n",
              "        element.innerHTML = '';\n",
              "        dataTable['output_type'] = 'display_data';\n",
              "        await google.colab.output.renderOutput(dataTable, element);\n",
              "        const docLink = document.createElement('div');\n",
              "        docLink.innerHTML = docLinkHtml;\n",
              "        element.appendChild(docLink);\n",
              "      }\n",
              "    </script>\n",
              "  </div>\n",
              "\n",
              "\n",
              "    </div>\n",
              "  </div>\n"
            ],
            "application/vnd.google.colaboratory.intrinsic+json": {
              "type": "dataframe",
              "repr_error": "0"
            }
          },
          "metadata": {},
          "execution_count": 74
        }
      ]
    },
    {
      "cell_type": "markdown",
      "source": [
        "# Visualisation de la distribution des citations par publication\n",
        "Pour visualiser la distribution des citations, nous utiliserons Matplotlib pour créer un histogramme des valeurs de citedby_count."
      ],
      "metadata": {
        "id": "ZEXhmxcUD2MO"
      }
    },
    {
      "cell_type": "code",
      "source": [
        "def plot_citations_distribution(df):\n",
        "    plt.figure(figsize=(10, 6))\n",
        "    plt.hist(df['citedby_count'], bins=30, edgecolor='black')\n",
        "    plt.title('Distribution des citations par publication')\n",
        "    plt.xlabel('Nombre de citations')\n",
        "    plt.ylabel('Nombre de publications')\n",
        "    plt.grid(True)\n",
        "    plt.show()\n",
        "\n",
        "# Tester la fonction\n",
        "plot_citations_distribution(df)\n"
      ],
      "metadata": {
        "id": "8R19iKWiEAHF",
        "colab": {
          "base_uri": "https://localhost:8080/",
          "height": 584
        },
        "outputId": "42f5cf50-03d1-4ea9-88dd-9ae33c71dc92"
      },
      "execution_count": 79,
      "outputs": [
        {
          "output_type": "display_data",
          "data": {
            "text/plain": [
              "<Figure size 1000x600 with 1 Axes>"
            ],
            "image/png": "[encoded data removed]"
          },
          "metadata": {}
        }
      ]
    },
    {
      "cell_type": "markdown",
      "source": [
        "# Citations par Année : Analyser les citations par année\n",
        "Pour analyser les citations par année, nous allons d'abord extraire l'année à partir de la colonne coverDate, puis regrouper et calculer les statistiques nécessaires."
      ],
      "metadata": {
        "id": "e7GjYUhKGn9b"
      }
    },
    {
      "cell_type": "code",
      "source": [
        "def citations_by_year(df):\n",
        "    # Extraire l'année à partir de la colonne coverDate\n",
        "    df['coverYear'] = pd.to_datetime(df['coverDate']).dt.year\n",
        "\n",
        "    # Grouper par année et calculer les statistiques\n",
        "    citations_yearly = df.groupby('coverYear')['citedby_count'].agg(['sum', 'mean', 'count']).reset_index()\n",
        "\n",
        "    return citations_yearly\n",
        "\n",
        "# Tester la fonction\n",
        "citations_yearly = citations_by_year(df)\n",
        "print(citations_yearly)"
      ],
      "metadata": {
        "colab": {
          "base_uri": "https://localhost:8080/"
        },
        "id": "CReusI9UGoLh",
        "outputId": "cc468923-5e1f-42ee-cb01-d146066e7cdd"
      },
      "execution_count": 80,
      "outputs": [
        {
          "output_type": "stream",
          "name": "stdout",
          "text": [
            "   coverYear  sum      mean  count\n",
            "0       2024   11  0.011892    925\n",
            "1       2025    7  0.093333     75\n"
          ]
        }
      ]
    },
    {
      "cell_type": "code",
      "source": [
        "import seaborn as sns\n",
        "\n",
        "def plot_citations_by_year(df):\n",
        "    citations_yearly = citations_by_year(df)\n",
        "\n",
        "    plt.figure(figsize=(12, 6))\n",
        "    sns.barplot(x='coverYear', y='sum', data=citations_yearly, palette='viridis')\n",
        "    plt.title('Citations totales par année')\n",
        "    plt.xlabel('Année')\n",
        "    plt.ylabel('Nombre total de citations')\n",
        "    plt.xticks(rotation=45)\n",
        "    plt.grid(True)\n",
        "    plt.show()\n",
        "\n",
        "# Tester la fonction\n",
        "plot_citations_by_year(df)\n"
      ],
      "metadata": {
        "colab": {
          "base_uri": "https://localhost:8080/",
          "height": 612
        },
        "id": "XHOZFwpsH11Z",
        "outputId": "a9a323bb-e98d-4404-8461-d6b88328bad8"
      },
      "execution_count": 86,
      "outputs": [
        {
          "output_type": "stream",
          "name": "stderr",
          "text": [
            "<ipython-input-86-e8acfd4692d1>:7: FutureWarning: \n",
            "\n",
            "Passing `palette` without assigning `hue` is deprecated and will be removed in v0.14.0. Assign the `x` variable to `hue` and set `legend=False` for the same effect.\n",
            "\n",
            "  sns.barplot(x='coverYear', y='sum', data=citations_yearly, palette='viridis')\n"
          ]
        },
        {
          "output_type": "display_data",
          "data": {
            "text/plain": [
              "<Figure size 1200x600 with 1 Axes>"
            ],
            "image/png": "[encoded data removed]"
          },
          "metadata": {}
        }
      ]
    },
    {
      "cell_type": "markdown",
      "source": [
        "# Répartition des Publications par Auteur : Analyse de la répartition des publications par auteur\n",
        "Pour analyser la répartition des publications par auteur, nous allons compter le nombre de publications pour chaque auteur principal (dc:creator)."
      ],
      "metadata": {
        "id": "OqDBwieOHE8A"
      }
    },
    {
      "cell_type": "code",
      "source": [
        "def publications_by_author(df):\n",
        "    author_counts = df['creator'].value_counts().reset_index()\n",
        "    author_counts.columns = ['Author', 'Publication Count']\n",
        "    return author_counts\n",
        "\n",
        "# Tester la fonction\n",
        "author_counts = publications_by_author(df)\n",
        "print(author_counts.head(20))  # Afficher les 10 premiers auteurs par nombre de publications\n"
      ],
      "metadata": {
        "colab": {
          "base_uri": "https://localhost:8080/"
        },
        "id": "ciSLo7_5HFI2",
        "outputId": "7a50854f-2ef3-47b4-a5d6-5d894cb752ee"
      },
      "execution_count": 82,
      "outputs": [
        {
          "output_type": "stream",
          "name": "stdout",
          "text": [
            "         Author  Publication Count\n",
            "0       Wang Y.                  4\n",
            "1       Wang G.                  4\n",
            "2      Zhang S.                  4\n",
            "3       Wang L.                  4\n",
            "4       Wang J.                  4\n",
            "5       Wang X.                  3\n",
            "6      Zhang J.                  3\n",
            "7         Li S.                  3\n",
            "8      Zhang M.                  3\n",
            "9       Zhou J.                  3\n",
            "10        Li X.                  3\n",
            "11      Wang M.                  3\n",
            "12        Wu Y.                  3\n",
            "13        Du C.                  3\n",
            "14       Liu Z.                  3\n",
            "15     Zhang X.                  3\n",
            "16     Kim J.T.                  2\n",
            "17  Zierke M.A.                  2\n",
            "18    Salter F.                  2\n",
            "19      Ma L.W.                  2\n"
          ]
        }
      ]
    },
    {
      "cell_type": "code",
      "source": [
        "def plot_publications_by_author(df):\n",
        "    author_counts = publications_by_author(df)\n",
        "\n",
        "    plt.figure(figsize=(12, 6))\n",
        "    sns.barplot(x='Publication Count', y='Author', data=author_counts.head(10), palette='viridis')\n",
        "    plt.title('Répartition des publications par auteur')\n",
        "    plt.xlabel('Nombre de publications')\n",
        "    plt.ylabel('Auteur')\n",
        "    plt.grid(True)\n",
        "    plt.show()\n",
        "\n",
        "# Tester la fonction\n",
        "plot_publications_by_author(df)\n"
      ],
      "metadata": {
        "colab": {
          "base_uri": "https://localhost:8080/",
          "height": 573
        },
        "id": "ugyexkWYI1gW",
        "outputId": "b1f22cab-e7dc-4b20-b9f5-bf858cd26196"
      },
      "execution_count": 89,
      "outputs": [
        {
          "output_type": "stream",
          "name": "stderr",
          "text": [
            "<ipython-input-89-09425fad863c>:5: FutureWarning: \n",
            "\n",
            "Passing `palette` without assigning `hue` is deprecated and will be removed in v0.14.0. Assign the `y` variable to `hue` and set `legend=False` for the same effect.\n",
            "\n",
            "  sns.barplot(x='Publication Count', y='Author', data=author_counts.head(10), palette='viridis')\n"
          ]
        },
        {
          "output_type": "display_data",
          "data": {
            "text/plain": [
              "<Figure size 1200x600 with 1 Axes>"
            ],
            "image/png": "[encoded data removed]"
          },
          "metadata": {}
        }
      ]
    },
    {
      "cell_type": "markdown",
      "source": [
        "# Calculer la corrélation entre le nombre de citations et les années de publication\n",
        "Pour calculer la corrélation entre le nombre de citations et les années de publication, nous utiliserons la méthode .corr() sur les colonnes pertinentes."
      ],
      "metadata": {
        "id": "S9U45wHvHale"
      }
    },
    {
      "cell_type": "code",
      "source": [
        "def citations_year_correlation(df):\n",
        "    # Extraire l'année à partir de la colonne coverDate\n",
        "    df['coverYear'] = pd.to_datetime(df['coverDate']).dt.year\n",
        "\n",
        "    # Calculer la corrélation entre citedby_count et coverYear\n",
        "    correlation = df['citedby_count'].corr(df['coverYear'])\n",
        "\n",
        "    return correlation\n",
        "\n",
        "# Tester la fonction\n",
        "correlation = citations_year_correlation(df)\n",
        "print(f\"Corrélation entre le nombre de citations et les années de publication : {correlation:.2f}\")"
      ],
      "metadata": {
        "colab": {
          "base_uri": "https://localhost:8080/"
        },
        "id": "ZkEAPhL6Ha0V",
        "outputId": "7a381ef0-f6de-444c-889f-8d41bad92c32"
      },
      "execution_count": 83,
      "outputs": [
        {
          "output_type": "stream",
          "name": "stdout",
          "text": [
            "Corrélation entre le nombre de citations et les années de publication : 0.13\n"
          ]
        }
      ]
    },
    {
      "cell_type": "code",
      "source": [
        "def plot_citations_year_correlation(df):\n",
        "    df['coverYear'] = pd.to_datetime(df['coverDate']).dt.year\n",
        "\n",
        "    plt.figure(figsize=(12, 6))\n",
        "    sns.regplot(x='coverYear', y='citedby_count', data=df, scatter_kws={'alpha':0.5}, line_kws={'color':'red'})\n",
        "    plt.title('Corrélation entre les citations et les années de publication')\n",
        "    plt.xlabel('Année de publication')\n",
        "    plt.ylabel('Nombre de citations')\n",
        "    plt.grid(True)\n",
        "    plt.show()\n",
        "\n",
        "# Tester la fonction\n",
        "plot_citations_year_correlation(df)\n"
      ],
      "metadata": {
        "colab": {
          "base_uri": "https://localhost:8080/",
          "height": 482
        },
        "id": "6X9SPlQNJJj2",
        "outputId": "c34c294c-e787-41de-8ea4-751ecd69ed49"
      },
      "execution_count": 90,
      "outputs": [
        {
          "output_type": "display_data",
          "data": {
            "text/plain": [
              "<Figure size 1200x600 with 1 Axes>"
            ],
            "image/png": "[encoded data removed]"
          },
          "metadata": {}
        }
      ]
    },
    {
      "cell_type": "markdown",
      "source": [
        "# Graphique linéaire pour montrer la tendance des publications au fil du temps"
      ],
      "metadata": {
        "id": "oJzsqoATWL2u"
      }
    },
    {
      "cell_type": "code",
      "source": [
        "def plot_publications_over_time(citations_yearly):\n",
        "    plt.figure(figsize=(14, 8))\n",
        "    sns.lineplot(data=citations_yearly, x='coverYear', y='count', marker='o', label='Nombre de publications')\n",
        "    sns.lineplot(data=citations_yearly, x='coverYear', y='sum', marker='o', label='Total des citations')\n",
        "    plt.title('Tendance des publications et des citations au fil du temps')\n",
        "    plt.xlabel('Année')\n",
        "    plt.ylabel('Nombre')\n",
        "    plt.legend()\n",
        "    plt.grid(True)\n",
        "    plt.show()\n",
        "\n",
        "# Tester la fonction de visualisation\n",
        "plot_publications_over_time(citations_yearly)\n"
      ],
      "metadata": {
        "colab": {
          "base_uri": "https://localhost:8080/",
          "height": 534
        },
        "id": "u_CgpJvSWD9b",
        "outputId": "9e00dd1f-b054-4052-80b7-8ddab3513ddd"
      },
      "execution_count": 97,
      "outputs": [
        {
          "output_type": "display_data",
          "data": {
            "text/plain": [
              "<Figure size 1400x800 with 1 Axes>"
            ],
            "image/png": "[encoded data removed]"
          },
          "metadata": {}
        }
      ]
    },
    {
      "cell_type": "markdown",
      "source": [
        "# enregistrement de la dataset pour la reutiliser"
      ],
      "metadata": {
        "id": "WbzedtTYXEww"
      }
    },
    {
      "cell_type": "code",
      "source": [
        "# Enregistrer la DataFrame principale dans un fichier CSV\n",
        "df.to_csv('publications_dataset.csv', index=False)\n",
        "\n",
        "print(\"La DataFrame a été enregistrée dans 'publications_dataset.csv'.\")\n"
      ],
      "metadata": {
        "colab": {
          "base_uri": "https://localhost:8080/"
        },
        "id": "2RaZ522oUzfu",
        "outputId": "bf877b8f-5861-4a72-d946-254c82be3972"
      },
      "execution_count": 95,
      "outputs": [
        {
          "output_type": "stream",
          "name": "stdout",
          "text": [
            "La DataFrame a été enregistrée dans 'publications_dataset.csv'.\n"
          ]
        }
      ]
    },
    {
      "cell_type": "markdown",
      "source": [
        "# **`DEUXIEME PARTIE OPTIONNELLE `**"
      ],
      "metadata": {
        "id": "Qjp9YaE53K6c"
      }
    },
    {
      "cell_type": "markdown",
      "source": [
        "---\n",
        "# Intégration de `RDF et SPARQL `\n",
        "\n",
        "---\n",
        "\n",
        "# Conversion en RDF\n",
        "\n",
        "\n",
        "\n",
        "\n",
        "\n"
      ],
      "metadata": {
        "id": "NAHc1GW53S_C"
      }
    },
    {
      "cell_type": "markdown",
      "source": [
        "Nous allons utiliser la bibliothèque rdflib pour convertir les données en RDF. RDF utilise des triplets (sujet, prédicat, objet) pour représenter les données."
      ],
      "metadata": {
        "id": "H9ihZBA23w5U"
      }
    },
    {
      "cell_type": "code",
      "source": [
        "!pip install rdflib"
      ],
      "metadata": {
        "colab": {
          "base_uri": "https://localhost:8080/"
        },
        "id": "CdLRXRoI4OLl",
        "outputId": "f5512311-0276-4fa4-834c-c100225b442f"
      },
      "execution_count": 2,
      "outputs": [
        {
          "output_type": "stream",
          "name": "stdout",
          "text": [
            "Collecting rdflib\n",
            "  Downloading rdflib-7.0.0-py3-none-any.whl (531 kB)\n",
            "\u001b[2K     \u001b[90m━━━━━━━━━━━━━━━━━━━━━━━━━━━━━━━━━━━━━━━━\u001b[0m \u001b[32m531.9/531.9 kB\u001b[0m \u001b[31m7.9 MB/s\u001b[0m eta \u001b[36m0:00:00\u001b[0m\n",
            "\u001b[?25hCollecting isodate<0.7.0,>=0.6.0 (from rdflib)\n",
            "  Downloading isodate-0.6.1-py2.py3-none-any.whl (41 kB)\n",
            "\u001b[2K     \u001b[90m━━━━━━━━━━━━━━━━━━━━━━━━━━━━━━━━━━━━━━━━\u001b[0m \u001b[32m41.7/41.7 kB\u001b[0m \u001b[31m4.2 MB/s\u001b[0m eta \u001b[36m0:00:00\u001b[0m\n",
            "\u001b[?25hRequirement already satisfied: pyparsing<4,>=2.1.0 in /usr/local/lib/python3.10/dist-packages (from rdflib) (3.1.2)\n",
            "Requirement already satisfied: six in /usr/local/lib/python3.10/dist-packages (from isodate<0.7.0,>=0.6.0->rdflib) (1.16.0)\n",
            "Installing collected packages: isodate, rdflib\n",
            "Successfully installed isodate-0.6.1 rdflib-7.0.0\n"
          ]
        }
      ]
    },
    {
      "cell_type": "code",
      "source": [
        "import rdflib\n",
        "from rdflib import Graph, Literal, RDF, URIRef\n",
        "from rdflib.namespace import FOAF, DC"
      ],
      "metadata": {
        "id": "iiFX3ar437nT"
      },
      "execution_count": 3,
      "outputs": []
    },
    {
      "cell_type": "markdown",
      "source": [
        "# chargement de la dataset qu'on avait sauvegarder precedement"
      ],
      "metadata": {
        "id": "BvxexR4v6kh2"
      }
    },
    {
      "cell_type": "code",
      "source": [
        "from google.colab import files\n",
        "\n",
        "# Télécharger le fichier CSV depuis votre machine locale\n",
        "uploaded = files.upload()\n",
        "\n",
        "# Afficher les noms des fichiers téléchargés\n",
        "for filename in uploaded.keys():\n",
        "    print(f'Fichier téléchargé: {filename}')\n"
      ],
      "metadata": {
        "colab": {
          "base_uri": "https://localhost:8080/",
          "height": 90
        },
        "id": "sYnRXA6E7AK0",
        "outputId": "e85742ca-ef58-4fa2-e74b-4d43e252a8f8"
      },
      "execution_count": 5,
      "outputs": [
        {
          "output_type": "display_data",
          "data": {
            "text/plain": [
              "<IPython.core.display.HTML object>"
            ],
            "text/html": [
              "\n",
              "     <input type=\"file\" id=\"files-f8e3ecaf-0253-4e33-ba51-288e1121c75f\" name=\"files[]\" multiple disabled\n",
              "        style=\"border:none\" />\n",
              "     <output id=\"result-f8e3ecaf-0253-4e33-ba51-288e1121c75f\">\n",
              "      Upload widget is only available when the cell has been executed in the\n",
              "      current browser session. Please rerun this cell to enable.\n",
              "      </output>\n",
              "      <script>// Copyright 2017 Google LLC\n",
              "//\n",
              "// Licensed under the Apache License, Version 2.0 (the \"License\");\n",
              "// you may not use this file except in compliance with the License.\n",
              "// You may obtain a copy of the License at\n",
              "//\n",
              "//      http://www.apache.org/licenses/LICENSE-2.0\n",
              "//\n",
              "// Unless required by applicable law or agreed to in writing, software\n",
              "// distributed under the License is distributed on an \"AS IS\" BASIS,\n",
              "// WITHOUT WARRANTIES OR CONDITIONS OF ANY KIND, either express or implied.\n",
              "// See the License for the specific language governing permissions and\n",
              "// limitations under the License.\n",
              "\n",
              "/**\n",
              " * @fileoverview Helpers for google.colab Python module.\n",
              " */\n",
              "(function(scope) {\n",
              "function span(text, styleAttributes = {}) {\n",
              "  const element = document.createElement('span');\n",
              "  element.textContent = text;\n",
              "  for (const key of Object.keys(styleAttributes)) {\n",
              "    element.style[key] = styleAttributes[key];\n",
              "  }\n",
              "  return element;\n",
              "}\n",
              "\n",
              "// Max number of bytes which will be uploaded at a time.\n",
              "const MAX_PAYLOAD_SIZE = 100 * 1024;\n",
              "\n",
              "function _uploadFiles(inputId, outputId) {\n",
              "  const steps = uploadFilesStep(inputId, outputId);\n",
              "  const outputElement = document.getElementById(outputId);\n",
              "  // Cache steps on the outputElement to make it available for the next call\n",
              "  // to uploadFilesContinue from Python.\n",
              "  outputElement.steps = steps;\n",
              "\n",
              "  return _uploadFilesContinue(outputId);\n",
              "}\n",
              "\n",
              "// This is roughly an async generator (not supported in the browser yet),\n",
              "// where there are multiple asynchronous steps and the Python side is going\n",
              "// to poll for completion of each step.\n",
              "// This uses a Promise to block the python side on completion of each step,\n",
              "// then passes the result of the previous step as the input to the next step.\n",
              "function _uploadFilesContinue(outputId) {\n",
              "  const outputElement = document.getElementById(outputId);\n",
              "  const steps = outputElement.steps;\n",
              "\n",
              "  const next = steps.next(outputElement.lastPromiseValue);\n",
              "  return Promise.resolve(next.value.promise).then((value) => {\n",
              "    // Cache the last promise value to make it available to the next\n",
              "    // step of the generator.\n",
              "    outputElement.lastPromiseValue = value;\n",
              "    return next.value.response;\n",
              "  });\n",
              "}\n",
              "\n",
              "/**\n",
              " * Generator function which is called between each async step of the upload\n",
              " * process.\n",
              " * @param {string} inputId Element ID of the input file picker element.\n",
              " * @param {string} outputId Element ID of the output display.\n",
              " * @return {!Iterable<!Object>} Iterable of next steps.\n",
              " */\n",
              "function* uploadFilesStep(inputId, outputId) {\n",
              "  const inputElement = document.getElementById(inputId);\n",
              "  inputElement.disabled = false;\n",
              "\n",
              "  const outputElement = document.getElementById(outputId);\n",
              "  outputElement.innerHTML = '';\n",
              "\n",
              "  const pickedPromise = new Promise((resolve) => {\n",
              "    inputElement.addEventListener('change', (e) => {\n",
              "      resolve(e.target.files);\n",
              "    });\n",
              "  });\n",
              "\n",
              "  const cancel = document.createElement('button');\n",
              "  inputElement.parentElement.appendChild(cancel);\n",
              "  cancel.textContent = 'Cancel upload';\n",
              "  const cancelPromise = new Promise((resolve) => {\n",
              "    cancel.onclick = () => {\n",
              "      resolve(null);\n",
              "    };\n",
              "  });\n",
              "\n",
              "  // Wait for the user to pick the files.\n",
              "  const files = yield {\n",
              "    promise: Promise.race([pickedPromise, cancelPromise]),\n",
              "    response: {\n",
              "      action: 'starting',\n",
              "    }\n",
              "  };\n",
              "\n",
              "  cancel.remove();\n",
              "\n",
              "  // Disable the input element since further picks are not allowed.\n",
              "  inputElement.disabled = true;\n",
              "\n",
              "  if (!files) {\n",
              "    return {\n",
              "      response: {\n",
              "        action: 'complete',\n",
              "      }\n",
              "    };\n",
              "  }\n",
              "\n",
              "  for (const file of files) {\n",
              "    const li = document.createElement('li');\n",
              "    li.append(span(file.name, {fontWeight: 'bold'}));\n",
              "    li.append(span(\n",
              "        `(${file.type || 'n/a'}) - ${file.size} bytes, ` +\n",
              "        `last modified: ${\n",
              "            file.lastModifiedDate ? file.lastModifiedDate.toLocaleDateString() :\n",
              "                                    'n/a'} - `));\n",
              "    const percent = span('0% done');\n",
              "    li.appendChild(percent);\n",
              "\n",
              "    outputElement.appendChild(li);\n",
              "\n",
              "    const fileDataPromise = new Promise((resolve) => {\n",
              "      const reader = new FileReader();\n",
              "      reader.onload = (e) => {\n",
              "        resolve(e.target.result);\n",
              "      };\n",
              "      reader.readAsArrayBuffer(file);\n",
              "    });\n",
              "    // Wait for the data to be ready.\n",
              "    let fileData = yield {\n",
              "      promise: fileDataPromise,\n",
              "      response: {\n",
              "        action: 'continue',\n",
              "      }\n",
              "    };\n",
              "\n",
              "    // Use a chunked sending to avoid message size limits. See b/62115660.\n",
              "    let position = 0;\n",
              "    do {\n",
              "      const length = Math.min(fileData.byteLength - position, MAX_PAYLOAD_SIZE);\n",
              "      const chunk = new Uint8Array(fileData, position, length);\n",
              "      position += length;\n",
              "\n",
              "      const base64 = btoa(String.fromCharCode.apply(null, chunk));\n",
              "      yield {\n",
              "        response: {\n",
              "          action: 'append',\n",
              "          file: file.name,\n",
              "          data: base64,\n",
              "        },\n",
              "      };\n",
              "\n",
              "      let percentDone = fileData.byteLength === 0 ?\n",
              "          100 :\n",
              "          Math.round((position / fileData.byteLength) * 100);\n",
              "      percent.textContent = `${percentDone}% done`;\n",
              "\n",
              "    } while (position < fileData.byteLength);\n",
              "  }\n",
              "\n",
              "  // All done.\n",
              "  yield {\n",
              "    response: {\n",
              "      action: 'complete',\n",
              "    }\n",
              "  };\n",
              "}\n",
              "\n",
              "scope.google = scope.google || {};\n",
              "scope.google.colab = scope.google.colab || {};\n",
              "scope.google.colab._files = {\n",
              "  _uploadFiles,\n",
              "  _uploadFilesContinue,\n",
              "};\n",
              "})(self);\n",
              "</script> "
            ]
          },
          "metadata": {}
        },
        {
          "output_type": "stream",
          "name": "stdout",
          "text": [
            "Saving publications_dataset.csv to publications_dataset.csv\n",
            "Fichier téléchargé: publications_dataset.csv\n"
          ]
        }
      ]
    },
    {
      "cell_type": "code",
      "source": [
        "# Charger le fichier CSV\n",
        "df_new = pd.read_csv('publications_dataset.csv')\n",
        "\n",
        "# Afficher les premières lignes du nouveau dataset\n",
        "df_new.head()"
      ],
      "metadata": {
        "colab": {
          "base_uri": "https://localhost:8080/",
          "height": 397
        },
        "id": "WTiZbwNo6iUi",
        "outputId": "541e9d50-3606-4b74-b970-dfa8e385695a"
      },
      "execution_count": 9,
      "outputs": [
        {
          "output_type": "execute_result",
          "data": {
            "text/plain": [
              "                                               title              creator  \\\n",
              "0  Dysbiosis not observed in Canadian horse with ...          Wester R.J.   \n",
              "1  Relationship between ion currents and membrane...           Horváth B.   \n",
              "2  Familial risk for depression is associated wit...        Dell’Acqua C.   \n",
              "3  Effect of swab and surge pressure on the time-...  Kamgue Lenwoue A.R.   \n",
              "4  Anomalously weak intensity of tropical cyclone...              Yang Y.   \n",
              "\n",
              "                                     publicationName   coverDate  \\\n",
              "0                                 Scientific Reports  2024-12-01   \n",
              "1                                 Scientific Reports  2024-12-01   \n",
              "2                           Translational Psychiatry  2024-12-01   \n",
              "3  Geomechanics and Geophysics for Geo-Energy and...  2024-12-01   \n",
              "4                npj Climate and Atmospheric Science  2024-12-01   \n",
              "\n",
              "                          doi  citedby_count  coverYear  \n",
              "0  10.1038/s41598-024-63868-1              0       2024  \n",
              "1  10.1038/s41598-024-61736-6              0       2024  \n",
              "2  10.1038/s41398-024-02925-9              0       2024  \n",
              "3  10.1007/s40948-024-00793-7              0       2024  \n",
              "4  10.1038/s41612-024-00656-8              0       2024  "
            ],
            "text/html": [
              "\n",
              "  <div id=\"df-a428fe8b-33df-4e56-8c0f-4581b5832438\" class=\"colab-df-container\">\n",
              "    <div>\n",
              "<style scoped>\n",
              "    .dataframe tbody tr th:only-of-type {\n",
              "        vertical-align: middle;\n",
              "    }\n",
              "\n",
              "    .dataframe tbody tr th {\n",
              "        vertical-align: top;\n",
              "    }\n",
              "\n",
              "    .dataframe thead th {\n",
              "        text-align: right;\n",
              "    }\n",
              "</style>\n",
              "<table border=\"1\" class=\"dataframe\">\n",
              "  <thead>\n",
              "    <tr style=\"text-align: right;\">\n",
              "      <th></th>\n",
              "      <th>title</th>\n",
              "      <th>creator</th>\n",
              "      <th>publicationName</th>\n",
              "      <th>coverDate</th>\n",
              "      <th>doi</th>\n",
              "      <th>citedby_count</th>\n",
              "      <th>coverYear</th>\n",
              "    </tr>\n",
              "  </thead>\n",
              "  <tbody>\n",
              "    <tr>\n",
              "      <th>0</th>\n",
              "      <td>Dysbiosis not observed in Canadian horse with ...</td>\n",
              "      <td>Wester R.J.</td>\n",
              "      <td>Scientific Reports</td>\n",
              "      <td>2024-12-01</td>\n",
              "      <td>10.1038/s41598-024-63868-1</td>\n",
              "      <td>0</td>\n",
              "      <td>2024</td>\n",
              "    </tr>\n",
              "    <tr>\n",
              "      <th>1</th>\n",
              "      <td>Relationship between ion currents and membrane...</td>\n",
              "      <td>Horváth B.</td>\n",
              "      <td>Scientific Reports</td>\n",
              "      <td>2024-12-01</td>\n",
              "      <td>10.1038/s41598-024-61736-6</td>\n",
              "      <td>0</td>\n",
              "      <td>2024</td>\n",
              "    </tr>\n",
              "    <tr>\n",
              "      <th>2</th>\n",
              "      <td>Familial risk for depression is associated wit...</td>\n",
              "      <td>Dell’Acqua C.</td>\n",
              "      <td>Translational Psychiatry</td>\n",
              "      <td>2024-12-01</td>\n",
              "      <td>10.1038/s41398-024-02925-9</td>\n",
              "      <td>0</td>\n",
              "      <td>2024</td>\n",
              "    </tr>\n",
              "    <tr>\n",
              "      <th>3</th>\n",
              "      <td>Effect of swab and surge pressure on the time-...</td>\n",
              "      <td>Kamgue Lenwoue A.R.</td>\n",
              "      <td>Geomechanics and Geophysics for Geo-Energy and...</td>\n",
              "      <td>2024-12-01</td>\n",
              "      <td>10.1007/s40948-024-00793-7</td>\n",
              "      <td>0</td>\n",
              "      <td>2024</td>\n",
              "    </tr>\n",
              "    <tr>\n",
              "      <th>4</th>\n",
              "      <td>Anomalously weak intensity of tropical cyclone...</td>\n",
              "      <td>Yang Y.</td>\n",
              "      <td>npj Climate and Atmospheric Science</td>\n",
              "      <td>2024-12-01</td>\n",
              "      <td>10.1038/s41612-024-00656-8</td>\n",
              "      <td>0</td>\n",
              "      <td>2024</td>\n",
              "    </tr>\n",
              "  </tbody>\n",
              "</table>\n",
              "</div>\n",
              "    <div class=\"colab-df-buttons\">\n",
              "\n",
              "  <div class=\"colab-df-container\">\n",
              "    <button class=\"colab-df-convert\" onclick=\"convertToInteractive('df-a428fe8b-33df-4e56-8c0f-4581b5832438')\"\n",
              "            title=\"Convert this dataframe to an interactive table.\"\n",
              "            style=\"display:none;\">\n",
              "\n",
              "  <svg xmlns=\"http://www.w3.org/2000/svg\" height=\"24px\" viewBox=\"0 -960 960 960\">\n",
              "    <path d=\"M120-120v-720h720v720H120Zm60-500h600v-160H180v160Zm220 220h160v-160H400v160Zm0 220h160v-160H400v160ZM180-400h160v-160H180v160Zm440 0h160v-160H620v160ZM180-180h160v-160H180v160Zm440 0h160v-160H620v160Z\"/>\n",
              "  </svg>\n",
              "    </button>\n",
              "\n",
              "  <style>\n",
              "    .colab-df-container {\n",
              "      display:flex;\n",
              "      gap: 12px;\n",
              "    }\n",
              "\n",
              "    .colab-df-convert {\n",
              "      background-color: #E8F0FE;\n",
              "      border: none;\n",
              "      border-radius: 50%;\n",
              "      cursor: pointer;\n",
              "      display: none;\n",
              "      fill: #1967D2;\n",
              "      height: 32px;\n",
              "      padding: 0 0 0 0;\n",
              "      width: 32px;\n",
              "    }\n",
              "\n",
              "    .colab-df-convert:hover {\n",
              "      background-color: #E2EBFA;\n",
              "      box-shadow: 0px 1px 2px rgba(60, 64, 67, 0.3), 0px 1px 3px 1px rgba(60, 64, 67, 0.15);\n",
              "      fill: #174EA6;\n",
              "    }\n",
              "\n",
              "    .colab-df-buttons div {\n",
              "      margin-bottom: 4px;\n",
              "    }\n",
              "\n",
              "    [theme=dark] .colab-df-convert {\n",
              "      background-color: #3B4455;\n",
              "      fill: #D2E3FC;\n",
              "    }\n",
              "\n",
              "    [theme=dark] .colab-df-convert:hover {\n",
              "      background-color: #434B5C;\n",
              "      box-shadow: 0px 1px 3px 1px rgba(0, 0, 0, 0.15);\n",
              "      filter: drop-shadow(0px 1px 2px rgba(0, 0, 0, 0.3));\n",
              "      fill: #FFFFFF;\n",
              "    }\n",
              "  </style>\n",
              "\n",
              "    <script>\n",
              "      const buttonEl =\n",
              "        document.querySelector('#df-a428fe8b-33df-4e56-8c0f-4581b5832438 button.colab-df-convert');\n",
              "      buttonEl.style.display =\n",
              "        google.colab.kernel.accessAllowed ? 'block' : 'none';\n",
              "\n",
              "      async function convertToInteractive(key) {\n",
              "        const element = document.querySelector('#df-a428fe8b-33df-4e56-8c0f-4581b5832438');\n",
              "        const dataTable =\n",
              "          await google.colab.kernel.invokeFunction('convertToInteractive',\n",
              "                                                    [key], {});\n",
              "        if (!dataTable) return;\n",
              "\n",
              "        const docLinkHtml = 'Like what you see? Visit the ' +\n",
              "          '<a target=\"_blank\" href=https://colab.research.google.com/notebooks/data_table.ipynb>data table notebook</a>'\n",
              "          + ' to learn more about interactive tables.';\n",
              "        element.innerHTML = '';\n",
              "        dataTable['output_type'] = 'display_data';\n",
              "        await google.colab.output.renderOutput(dataTable, element);\n",
              "        const docLink = document.createElement('div');\n",
              "        docLink.innerHTML = docLinkHtml;\n",
              "        element.appendChild(docLink);\n",
              "      }\n",
              "    </script>\n",
              "  </div>\n",
              "\n",
              "\n",
              "<div id=\"df-330e9556-7e1e-46b4-890e-1d5855f5946d\">\n",
              "  <button class=\"colab-df-quickchart\" onclick=\"quickchart('df-330e9556-7e1e-46b4-890e-1d5855f5946d')\"\n",
              "            title=\"Suggest charts\"\n",
              "            style=\"display:none;\">\n",
              "\n",
              "<svg xmlns=\"http://www.w3.org/2000/svg\" height=\"24px\"viewBox=\"0 0 24 24\"\n",
              "     width=\"24px\">\n",
              "    <g>\n",
              "        <path d=\"M19 3H5c-1.1 0-2 .9-2 2v14c0 1.1.9 2 2 2h14c1.1 0 2-.9 2-2V5c0-1.1-.9-2-2-2zM9 17H7v-7h2v7zm4 0h-2V7h2v10zm4 0h-2v-4h2v4z\"/>\n",
              "    </g>\n",
              "</svg>\n",
              "  </button>\n",
              "\n",
              "<style>\n",
              "  .colab-df-quickchart {\n",
              "      --bg-color: #E8F0FE;\n",
              "      --fill-color: #1967D2;\n",
              "      --hover-bg-color: #E2EBFA;\n",
              "      --hover-fill-color: #174EA6;\n",
              "      --disabled-fill-color: #AAA;\n",
              "      --disabled-bg-color: #DDD;\n",
              "  }\n",
              "\n",
              "  [theme=dark] .colab-df-quickchart {\n",
              "      --bg-color: #3B4455;\n",
              "      --fill-color: #D2E3FC;\n",
              "      --hover-bg-color: #434B5C;\n",
              "      --hover-fill-color: #FFFFFF;\n",
              "      --disabled-bg-color: #3B4455;\n",
              "      --disabled-fill-color: #666;\n",
              "  }\n",
              "\n",
              "  .colab-df-quickchart {\n",
              "    background-color: var(--bg-color);\n",
              "    border: none;\n",
              "    border-radius: 50%;\n",
              "    cursor: pointer;\n",
              "    display: none;\n",
              "    fill: var(--fill-color);\n",
              "    height: 32px;\n",
              "    padding: 0;\n",
              "    width: 32px;\n",
              "  }\n",
              "\n",
              "  .colab-df-quickchart:hover {\n",
              "    background-color: var(--hover-bg-color);\n",
              "    box-shadow: 0 1px 2px rgba(60, 64, 67, 0.3), 0 1px 3px 1px rgba(60, 64, 67, 0.15);\n",
              "    fill: var(--button-hover-fill-color);\n",
              "  }\n",
              "\n",
              "  .colab-df-quickchart-complete:disabled,\n",
              "  .colab-df-quickchart-complete:disabled:hover {\n",
              "    background-color: var(--disabled-bg-color);\n",
              "    fill: var(--disabled-fill-color);\n",
              "    box-shadow: none;\n",
              "  }\n",
              "\n",
              "  .colab-df-spinner {\n",
              "    border: 2px solid var(--fill-color);\n",
              "    border-color: transparent;\n",
              "    border-bottom-color: var(--fill-color);\n",
              "    animation:\n",
              "      spin 1s steps(1) infinite;\n",
              "  }\n",
              "\n",
              "  @keyframes spin {\n",
              "    0% {\n",
              "      border-color: transparent;\n",
              "      border-bottom-color: var(--fill-color);\n",
              "      border-left-color: var(--fill-color);\n",
              "    }\n",
              "    20% {\n",
              "      border-color: transparent;\n",
              "      border-left-color: var(--fill-color);\n",
              "      border-top-color: var(--fill-color);\n",
              "    }\n",
              "    30% {\n",
              "      border-color: transparent;\n",
              "      border-left-color: var(--fill-color);\n",
              "      border-top-color: var(--fill-color);\n",
              "      border-right-color: var(--fill-color);\n",
              "    }\n",
              "    40% {\n",
              "      border-color: transparent;\n",
              "      border-right-color: var(--fill-color);\n",
              "      border-top-color: var(--fill-color);\n",
              "    }\n",
              "    60% {\n",
              "      border-color: transparent;\n",
              "      border-right-color: var(--fill-color);\n",
              "    }\n",
              "    80% {\n",
              "      border-color: transparent;\n",
              "      border-right-color: var(--fill-color);\n",
              "      border-bottom-color: var(--fill-color);\n",
              "    }\n",
              "    90% {\n",
              "      border-color: transparent;\n",
              "      border-bottom-color: var(--fill-color);\n",
              "    }\n",
              "  }\n",
              "</style>\n",
              "\n",
              "  <script>\n",
              "    async function quickchart(key) {\n",
              "      const quickchartButtonEl =\n",
              "        document.querySelector('#' + key + ' button');\n",
              "      quickchartButtonEl.disabled = true;  // To prevent multiple clicks.\n",
              "      quickchartButtonEl.classList.add('colab-df-spinner');\n",
              "      try {\n",
              "        const charts = await google.colab.kernel.invokeFunction(\n",
              "            'suggestCharts', [key], {});\n",
              "      } catch (error) {\n",
              "        console.error('Error during call to suggestCharts:', error);\n",
              "      }\n",
              "      quickchartButtonEl.classList.remove('colab-df-spinner');\n",
              "      quickchartButtonEl.classList.add('colab-df-quickchart-complete');\n",
              "    }\n",
              "    (() => {\n",
              "      let quickchartButtonEl =\n",
              "        document.querySelector('#df-330e9556-7e1e-46b4-890e-1d5855f5946d button');\n",
              "      quickchartButtonEl.style.display =\n",
              "        google.colab.kernel.accessAllowed ? 'block' : 'none';\n",
              "    })();\n",
              "  </script>\n",
              "</div>\n",
              "\n",
              "    </div>\n",
              "  </div>\n"
            ],
            "application/vnd.google.colaboratory.intrinsic+json": {
              "type": "dataframe",
              "variable_name": "df_new",
              "summary": "{\n  \"name\": \"df_new\",\n  \"rows\": 1000,\n  \"fields\": [\n    {\n      \"column\": \"title\",\n      \"properties\": {\n        \"dtype\": \"string\",\n        \"num_unique_values\": 895,\n        \"samples\": [\n          \"Sleep and liver function biomarkers in relation to risk of incident liver cancer: a nationwide prospective cohort study\",\n          \"Behavior of MSE wall under static load with different strips shapes\",\n          \"The circular bioeconomy: a driver for system integration\"\n        ],\n        \"semantic_type\": \"\",\n        \"description\": \"\"\n      }\n    },\n    {\n      \"column\": \"creator\",\n      \"properties\": {\n        \"dtype\": \"string\",\n        \"num_unique_values\": 839,\n        \"samples\": [\n          \"Wang J.\",\n          \"Im E.\",\n          \"Ali J.\"\n        ],\n        \"semantic_type\": \"\",\n        \"description\": \"\"\n      }\n    },\n    {\n      \"column\": \"publicationName\",\n      \"properties\": {\n        \"dtype\": \"category\",\n        \"num_unique_values\": 257,\n        \"samples\": [\n          \"Environmental Sciences Europe\",\n          \"Sensing and Imaging\",\n          \"PEC Innovation\"\n        ],\n        \"semantic_type\": \"\",\n        \"description\": \"\"\n      }\n    },\n    {\n      \"column\": \"coverDate\",\n      \"properties\": {\n        \"dtype\": \"object\",\n        \"num_unique_values\": 12,\n        \"samples\": [\n          \"2024-12-12\",\n          \"2024-12-11\",\n          \"2024-12-01\"\n        ],\n        \"semantic_type\": \"\",\n        \"description\": \"\"\n      }\n    },\n    {\n      \"column\": \"doi\",\n      \"properties\": {\n        \"dtype\": \"string\",\n        \"num_unique_values\": 895,\n        \"samples\": [\n          \"10.1186/s12916-024-03440-w\",\n          \"10.1007/s41024-024-00430-6\",\n          \"10.1186/s13705-024-00461-4\"\n        ],\n        \"semantic_type\": \"\",\n        \"description\": \"\"\n      }\n    },\n    {\n      \"column\": \"citedby_count\",\n      \"properties\": {\n        \"dtype\": \"number\",\n        \"std\": 0,\n        \"min\": 0,\n        \"max\": 2,\n        \"num_unique_values\": 3,\n        \"samples\": [\n          0,\n          2,\n          1\n        ],\n        \"semantic_type\": \"\",\n        \"description\": \"\"\n      }\n    },\n    {\n      \"column\": \"coverYear\",\n      \"properties\": {\n        \"dtype\": \"number\",\n        \"std\": 0,\n        \"min\": 2024,\n        \"max\": 2025,\n        \"num_unique_values\": 2,\n        \"samples\": [\n          2025,\n          2024\n        ],\n        \"semantic_type\": \"\",\n        \"description\": \"\"\n      }\n    }\n  ]\n}"
            }
          },
          "metadata": {},
          "execution_count": 9
        }
      ]
    },
    {
      "cell_type": "code",
      "source": [
        "# Créer un graphe RDF\n",
        "g = Graph()\n",
        "\n",
        "# Définir des namespaces\n",
        "n = rdflib.Namespace(\"http://example.org/\")\n",
        "\n",
        "df = df_new\n",
        "\n",
        "# Ajouter des triplets au graphe\n",
        "for index, row in df.iterrows():\n",
        "    publication = URIRef(f\"http://example.org/publication/{index}\")\n",
        "    g.add((publication, RDF.type, n.Publication))\n",
        "    g.add((publication, DC.title, Literal(row['title'])))\n",
        "    g.add((publication, DC.creator, Literal(row['creator'])))\n",
        "    g.add((publication, DC.source, Literal(row['publicationName'])))\n",
        "    g.add((publication, DC.date, Literal(row['coverDate'])))\n",
        "    g.add((publication, n.doi, Literal(row['doi'])))\n",
        "    g.add((publication, n.citedbyCount, Literal(row['citedby_count'], datatype=rdflib.XSD.integer)))\n",
        "\n",
        "# Sauvegarder le graphe RDF dans un fichier\n",
        "g.serialize(\"publications.rdf\", format=\"turtle\")\n",
        "\n",
        "print(\"Données converties en RDF et enregistrées dans 'publications.rdf'.\")\n"
      ],
      "metadata": {
        "colab": {
          "base_uri": "https://localhost:8080/"
        },
        "id": "Wq1YT_NR4WS9",
        "outputId": "f1a97ea1-9942-447e-c61f-bf08df8762e7"
      },
      "execution_count": 11,
      "outputs": [
        {
          "output_type": "stream",
          "name": "stdout",
          "text": [
            "Données converties en RDF et enregistrées dans 'publications.rdf'.\n"
          ]
        }
      ]
    },
    {
      "cell_type": "markdown",
      "source": [
        "# `Exécution de Requêtes SPARQL`\n",
        "\n",
        "---\n",
        "\n",
        "\n",
        "# Exemple 1 : Récupérer un certain nombre de publications"
      ],
      "metadata": {
        "id": "NL5ggjFF4oj6"
      }
    },
    {
      "cell_type": "code",
      "source": [
        "from rdflib import Graph\n",
        "from rdflib.plugins.sparql import prepareQuery\n",
        "\n",
        "# Charger le graphe RDF\n",
        "g = Graph()\n",
        "g.parse(\"publications.rdf\", format=\"turtle\")\n",
        "\n",
        "# Nombre de publications à récupérer\n",
        "limit = 100\n",
        "\n",
        "# Requête SPARQL pour récupérer un certain nombre de publications\n",
        "query = prepareQuery(f\"\"\"\n",
        "    SELECT ?title ?creator ?date\n",
        "    WHERE {{\n",
        "        ?publication a <http://example.org/Publication> ;\n",
        "                     <http://purl.org/dc/elements/1.1/title> ?title ;\n",
        "                     <http://purl.org/dc/elements/1.1/creator> ?creator ;\n",
        "                     <http://purl.org/dc/elements/1.1/date> ?date .\n",
        "    }}\n",
        "    LIMIT {limit}\n",
        "\"\"\")\n",
        "\n",
        "# Exécuter la requête et afficher les résultats\n",
        "for row in g.query(query):\n",
        "    print(f\"Title: {row.title}, Creator: {row.creator}, Date: {row.date}\")\n"
      ],
      "metadata": {
        "colab": {
          "base_uri": "https://localhost:8080/"
        },
        "id": "Iekxv7OP4nZD",
        "outputId": "6a757c51-127e-4ae6-8a6f-ed65489ef2dd"
      },
      "execution_count": 17,
      "outputs": [
        {
          "output_type": "stream",
          "name": "stdout",
          "text": [
            "Title: Dysbiosis not observed in Canadian horse with free fecal liquid (FFL) using 16S rRNA sequencing, Creator: Wester R.J., Date: 2024-12-01\n",
            "Title: Relationship between ion currents and membrane capacitance in canine ventricular myocytes, Creator: Horváth B., Date: 2024-12-01\n",
            "Title: Synergistic mechanism of electrocatalytic degradation of typical antibiotics by high-entropy MXenes modified metal organic gels catalysts: Theoretical and experimental studies, Creator: Liu G., Date: 2025-01-01\n",
            "Title: 7 Tesla magnetic resonance spectroscopic imaging predicting IDH status and glioma grading, Creator: Cadrien C., Date: 2024-12-01\n",
            "Title: Utility of shaking chills as a diagnostic sign for bacteremia in adults: a systematic review and meta-analysis, Creator: Aita T., Date: 2024-12-01\n",
            "Title: Machine learning survival prediction using tumor lipid metabolism genes for osteosarcoma, Creator: Li S., Date: 2024-12-01\n",
            "Title: Neither injury induced macrophages within the nerve, nor the environment created by Wallerian degeneration is necessary for enhanced in vivo axon regeneration after peripheral nerve injury, Creator: Talsma A.D., Date: 2024-12-01\n",
            "Title: Emotional and motivational intelligence in Ethiopian high school learners' writing performance in relation to gender differences, Creator: Hiluf B., Date: 2024-12-01\n",
            "Title: Enhanced electromagnetic tunability of barium strontium titanate films via coating Pr modified yttrium iron garnet layer, Creator: Jiao T., Date: 2024-12-10\n",
            "Title: Chronic ingestion of soy peptide supplementation reduces aggressive behavior and abnormal fear memory caused by juvenile social isolation, Creator: Tamura H., Date: 2024-12-01\n",
            "Title: The sterol C-24 methyltransferase encoding gene, erg6, is essential for viability of Aspergillus species, Creator: Xie J., Date: 2024-12-01\n",
            "Title: Torsional strength of reinforced concrete beams with incorporating agricultural waste ash, Creator: Krishnan A., Date: 2024-12-01\n",
            "Title: Acute anterior cruciate ligament rupture: can repair become an alternative to reconstruction: a meta-analysis of randomized controlled trials and cohort studies, Creator: Opoku M., Date: 2024-12-01\n",
            "Title: Synergistic effects of cognitive frailty and comorbidities on disability: a community-based longitudinal study, Creator: Fatin Malek Rivan N., Date: 2024-12-01\n",
            "Title: Enhancing fall risk assessment: instrumenting vision with deep learning during walks, Creator: Moore J., Date: 2024-12-01\n",
            "Title: Optimal variable identification for accurate detection of causal expression Quantitative Trait Loci with applications in heart-related diseases, Creator: Wang G., Date: 2024-12-01\n",
            "Title: Keeping up with the pathogens: improved antimicrobial resistance detection and prediction from Pseudomonas aeruginosa genomes, Creator: Madden D.E., Date: 2024-12-01\n",
            "Title: Compendium of 5810 genomes of sheep and goat gut microbiomes provides new insights into the glycan and mucin utilization, Creator: Zhang K., Date: 2024-12-01\n",
            "Title: The effect of music on comfort, pain, and anxiety in patients with bone marrow aspiration and biopsy in Turkey: a mixed-methods study, Creator: Şahan S., Date: 2024-12-01\n",
            "Title: Physiological platelet aggregation assay to mitigate drug-induced thrombocytopenia using a microphysiological system, Creator: Harada K., Date: 2024-12-01\n",
            "Title: Delayed plasma kallikrein inhibition fosters post-stroke recovery by reducing thrombo-inflammation, Creator: Haupeltshofer S., Date: 2024-12-01\n",
            "Title: Short-Term Electrical Load Forecasting Based on Fuzzy Rough Set Feature Selection and Multi-kernel Extreme Learning Machine, Creator: Liu G., Date: 2024-12-01\n",
            "Title: Cryoprotective Effects of Royal Jelly Extenders on Buffalo Bull Spermatozoa, Creator: El-Sheshtawy R.I., Date: 2025-01-01\n",
            "Title: Proteome-wide Mendelian randomization identifies potential therapeutic targets for nonalcoholic fatty liver diseases, Creator: Li J., Date: 2024-12-01\n",
            "Title: FoldPAthreader: predicting protein folding pathway using a novel folding force field model derived from known protein universe, Creator: Zhao K., Date: 2024-12-01\n",
            "Title: Research On Secondary Control Strategy Of Microgrid Based On Adaptive Virtual Impedance, Creator: Zhang B., Date: 2025-01-01\n",
            "Title: Biodegradable plastic formulated from chitosan of Aristeus antennatus shells with castor oil as a plasticizer agent and starch as a filling substrate, Creator: El Feky A.R., Date: 2024-12-01\n",
            "Title: Comparison of macular changes and visual outcomes between femtosecond laser-assisted cataract surgery and conventional phacoemulsification surgery for high myopic cataract patients, Creator: Liang X., Date: 2024-12-01\n",
            "Title: Evaluation of the relationships between atmospheric indices and rainfall intensities: Black Sea region Türkiye, Creator: Keskin A.U., Date: 2024-12-10\n",
            "Title: Characterization of systolic and diastolic function, alongside proteomic profiling, in doxorubicin-induced cardiovascular toxicity in mice, Creator: Krüger D.N., Date: 2024-12-01\n",
            "Title: High-efficiency lanthanum-modified zeolite adsorbents for phosphorus control and algal suppression: Preparation, characterization and mechanistic insights, Creator: Luo Q., Date: 2025-01-01\n",
            "Title: Dynamic Analysis Of The UHPFRC High-rise Building Under High Explosion Using Coupled Eulerian-Lagrangian Approach, Creator: Nguyen X.B., Date: 2025-01-01\n",
            "Title: Loss of protein tyrosine phosphatase receptor delta PTPRD increases the number of cortical neurons, impairs synaptic function and induces autistic-like behaviors in adult mice, Creator: Cortés B.I., Date: 2024-12-01\n",
            "Title: Associations between over-the-counter analgesics usage and symptoms of anxiety and depression in adolescents: a network analysis, Creator: Roalsø E.S., Date: 2024-12-01\n",
            "Title: Vortex-like vs. turbulent mixing of a Viscum album preparation affects crystalline structures formed in dried droplets, Creator: Kokornaczyk M.O., Date: 2024-12-01\n",
            "Title: Fuzzy analytic hierarchy process based generation management for interconnected power system, Creator: Varshney T., Date: 2024-12-01\n",
            "Title: Screening of malaria infections in human blood samples with varying parasite densities and anaemic conditions using AI-Powered mid-infrared spectroscopy, Creator: Mshani I.H., Date: 2024-12-01\n",
            "Title: Biodegradable plastic formulated from chitosan of Aristeus antennatus shells with castor oil as a plasticizer agent and starch as a filling substrate, Creator: El Feky A.R., Date: 2024-12-01\n",
            "Title: Geologically younger ecosystems are more dependent on soil biodiversity for supporting function, Creator: Feng J., Date: 2024-12-01\n",
            "Title: The investigation of effect on foot plantar massage on functional recovery in older adults with general surgery, randomized clinical trial, Creator: Saltan A., Date: 2024-12-01\n",
            "Title: Acceptance of virtual patients as a continuous professional development approach among practicing nurses in primary health care settings in a low-income country: a quasi-experimental posttest setup design, Creator: Nyiringango G., Date: 2024-12-01\n",
            "Title: Effect of resilience training on stress, hope and psychological toughness of mothers living with mentally and physically disabled children, Creator: Sharifian P., Date: 2024-12-01\n",
            "Title: Effects of professional development program on primary science teachers’ ICT use in China: mediation effects of science teachers’ knowledge, beliefs and instructional practice, Creator: Lv B., Date: 2024-12-01\n",
            "Title: High-frame-rate contrast-enhanced ultrasound to differentiate between clear cell renal cell carcinoma and angiomyolipoma, Creator: Wang J.L., Date: 2024-12-01\n",
            "Title: Root-to-shoot signaling positively mediates source-sink relation in late growth stages in diploid and tetraploid wheat, Creator: Batool A., Date: 2024-12-01\n",
            "Title: The role of neoadjuvant chemotherapy before radical surgery in stage IB2/IIA2 squamous cell cervical cancers, Creator: ALCI A., Date: 2024-12-01\n",
            "Title: A genome-wide association study reveals a polygenic architecture of speech-in-noise deficits in individuals with self-reported normal hearing, Creator: Bhatt I.S., Date: 2024-12-01\n",
            "Title: Effectiveness of empathy portfolios in developing professional identity formation in medical students: a randomized controlled trial, Creator: Baseer M., Date: 2024-12-01\n",
            "Title: Effectiveness of simulation-based clinical research curriculum for undergraduate medical students - a pre-post intervention study with external control, Creator: Huang Q., Date: 2024-12-01\n",
            "Title: Tongue image fusion and analysis of thermal and visible images in diabetes mellitus using machine learning techniques, Creator: Thirunavukkarasu U., Date: 2024-12-01\n",
            "Title: Effect of Aquilaria malaccensis leaves aqueous extract supplementation on testicular seminiferous tubules and testosterone level in adult male Sprague Dawley rats, Creator: Zaidi N., Date: 2025-01-01\n",
            "Title: Inhibition of mannan-binding lectin associated serine protease (MASP)-2 reduces the cognitive deficits in a mouse model of severe traumatic brain injury, Creator: Mercurio D., Date: 2024-12-01\n",
            "Title: Ownership and use of insecticide-treated nets in Myanmar: insights from a nationally representative demographic and health survey, Creator: Win K.M., Date: 2024-12-01\n",
            "Title: Simultaneous assessment of blood flow and myelin content in the brain white matter with dynamic [11 C]PiB PET: a test-retest study in healthy controls, Creator: Yazdan-Panah A., Date: 2024-12-01\n",
            "Title: Violence outcomes in later adolescence with the Good School Toolkit-Primary: a nonrandomized controlled trial in Uganda, Creator: Knight L., Date: 2024-12-01\n",
            "Title: Prioritising Key Concepts for informed health choices in cancer: An evidence-based online educational programme, Creator: Li M., Date: 2024-12-15\n",
            "Title: Cognitive load theory in workplace-based learning from the viewpoint of nursing students: application of a path analysis, Creator: Tabatabaee S.S., Date: 2024-12-01\n",
            "Title: Genetic variations of IL10 and IL6R genes in acute anterior uveitis in Han Chinese, Creator: Li L., Date: 2024-12-01\n",
            "Title: Integrated analysis reveals critical cisplatin-resistance regulators E2F7 contributed to tumor progression and metastasis in lung adenocarcinoma, Creator: Mao X., Date: 2024-12-01\n",
            "Title: Single and combined toxicity of tadalafil (Cilais) and microplastic in Tilapia fish (Oreochromis niloticus), Creator: Sabra M.S., Date: 2024-12-01\n",
            "Title: Comparison and review of abrasive bronchial brushing versus non-abrasive aspiration, lavage and washing – Higher sensitivity but with risk of over-diagnosis for bronchial brushing, Creator: Ng J.K.M., Date: 2024-12-01\n",
            "Title: Genetic variations in anti-diabetic drug targets and COPD risk: evidence from mendelian randomization, Creator: Su Y., Date: 2024-12-01\n",
            "Title: Effect of 2 weeks rest-pause on oxidative stress and inflammation in female basketball players, Creator: Cichoń-Woźniak J., Date: 2024-12-01\n",
            "Title: Examining dynamic developmental trends: the interrelationship between age-friendly environments and healthy aging in the Chinese population—evidence from China Health and Retirement Longitudinal Study, 2011–2018, Creator: Cheng Y., Date: 2024-12-01\n",
            "Title: In vitro evaluation of two novel Escherichia bacteriophages against multiple drug resistant avian pathogenic Escherichia coli, Creator: Karami M., Date: 2024-12-01\n",
            "Title: A neural network approach for the reliability analysis on failure of shallow foundations on cohesive soils, Creator: Savvides A.A., Date: 2024-12-01\n",
            "Title: A biomechanics and energetics dataset of neurotypical adults walking with and without kinematic constraints, Creator: Baček T., Date: 2024-12-01\n",
            "Title: Understanding the interplay of colorectal cancer awareness and attitudes among Palestinians: a national cross-sectional study, Creator: Elshami M., Date: 2024-12-01\n",
            "Title: Estimating individual trajectories of structural and cognitive decline in mild cognitive impairment for early prediction of progression to dementia of the Alzheimer’s type, Creator: Rajagopal S.K., Date: 2024-12-01\n",
            "Title: Predictive value of triglyceride glucose index combined with neutrophil-to-lymphocyte ratio for major adverse cardiac events after PCI for acute ST-segment elevation myocardial infarction, Creator: Wang L., Date: 2024-12-01\n",
            "Title: Soil salinity regulates spatial-temporal heterogeneity of seed germination and seedbank persistence of an annual diaspore-trimorphic halophyte in northern China, Creator: Wang Z., Date: 2024-12-01\n",
            "Title: The use of laser photobiomodulation as pre-anesthetic tissue management technique in reducing injection pain in children, Creator: Hamouda A.A., Date: 2024-12-01\n",
            "Title: Exploring the viability of Bentonite-amended blends incorporating marble dust, sand, and fly ash for the creation of an environmentally sustainable landfill liner system, Creator: Jain A.K., Date: 2024-12-01\n",
            "Title: Assessment of Sheep Omentum for Soft-tissue Engineering Scaffolds, Creator: Kirallah A.A., Date: 2025-01-01\n",
            "Title: Harnessing the power of native biocontrol agents against wilt disease of Pigeonpea incited by Fusarium udum, Creator: Reddy B.D., Date: 2024-12-01\n",
            "Title: Abusive supervision and nursing students’ intention to leave the nursing profession: a moderated mediation model of emotional exhaustion and the nurse-patient relationship, Creator: Hong Y., Date: 2024-12-01\n",
            "Title: Causal association and shared genetics between telomere length and COVID-19 outcomes: New evidence from the latest large-scale summary statistics, Creator: Zhang J., Date: 2024-12-01\n",
            "Title: Identification of a circulating long non-coding RNA signature panel in plasma as a novel biomarker for the detection of acute/early-stage HIV-1 infection, Creator: Biswas S., Date: 2024-12-01\n",
            "Title: The low health literacy in Latin America and the Caribbean: a systematic review and meta-analysis, Creator: de Jesus P.R., Date: 2024-12-01\n",
            "Title: How likely is it to beat the target at different investment horizons: an approach using compositional data in strategic portfolios, Creator: Vega-Gámez F., Date: 2024-12-01\n",
            "Title: Utilizing Bayesian inference in accelerated testing models under constant stress via ordered ranked set sampling and hybrid censoring with practical validation, Creator: Hashem A.F., Date: 2024-12-01\n",
            "Title: Enhanced Numerical Analysis Of Magneto-Electro-Elastic Beams Using Stabilized Nodally Integrated Meshfree RKPM, Creator: Lin K.C., Date: 2025-01-01\n",
            "Title: Objective and automatic assessment approach for diagnosing attention-deficit/hyperactivity disorder based on skeleton detection and classification analysis in outpatient videos, Creator: Ouyang C.S., Date: 2024-12-01\n",
            "Title: An improved gray wolf optimization algorithm solving to functional optimization and engineering design problems, Creator: Qiu Y., Date: 2024-12-01\n",
            "Title: Advanced magnetic resonance imaging detects altered placental development in pregnancies affected by congenital heart disease, Creator: Cromb D., Date: 2024-12-01\n",
            "Title: Synergistic effect of silicon availability and salinity on metal adsorption in a common estuarine diatom, Creator: Chen F., Date: 2025-02-01\n",
            "Title: Y4 RNA fragments from cardiosphere-derived cells ameliorate diabetic myocardial ischemia‒reperfusion injury by inhibiting protein kinase C β-mediated macrophage polarization, Creator: Liu D.Z., Date: 2024-12-01\n",
            "Title: Prevalence of self-reported hearing difficulty on the Revised Hearing Handicap Inventory and associated factors, Creator: Dillard L.K., Date: 2024-12-01\n",
            "Title: Antifeedant, antifungal and nematicidal compounds from the endophyte Stemphylium solani isolated from wormwood, Creator: Diaz C.E., Date: 2024-12-01\n",
            "Title: Varying behavioral differences and correlates of HPV infection among young adolescents in Benue state, Nigeria, Creator: Orya E.E., Date: 2024-12-01\n",
            "Title: Machine learning survival prediction using tumor lipid metabolism genes for osteosarcoma, Creator: Li S., Date: 2024-12-01\n",
            "Title: Effects of fruit and vegetable intake on memory and attention: a systematic review of randomized controlled trials, Creator: Khor K.L., Date: 2024-12-01\n",
            "Title: Exploring the foundations of a digital health information service for patients with inflammatory bowel disease: a mixed method study in Gravitate-Health, Creator: Maurud S., Date: 2024-12-01\n",
            "Title: Comparison of intravascular lithotripsy versus rotational atherectomy for the treatment of severe coronary artery calcification, Creator: Zhao Y., Date: 2024-12-01\n",
            "Title: Super-wetting Cu-MOF-based foam for efficient oil/water separation and photothermal cleanup of crude oil, Creator: Lu J., Date: 2025-01-19\n",
            "Title: Diagnostic accuracy and clinical value of [68Ga]Ga-FAPI-46 PET/CT for staging patients with ovarian cancer: study protocol for a prospective clinical trial, Creator: Bentestuen M., Date: 2024-12-01\n",
            "Title: Scientific competence during medical education - insights from a cross-sectional study at a German Medical School, Creator: Vogt M., Date: 2024-12-01\n",
            "Title: Hyaluronic acid as a pulpotomy material in primary molars: an up to 30 months retrospective study, Creator: Sezgin B.I., Date: 2024-12-01\n",
            "Title: Warming and shifts in litter quality drive multiple responses in freshwater detritivore communities, Creator: Benavides-Gordillo S., Date: 2024-12-01\n",
            "Title: The effect of illness perception on psychosocial adjustment of patients with breast cancer and their spouses: actor–partner independence model, Creator: Wang Y.F., Date: 2024-12-01\n"
          ]
        }
      ]
    },
    {
      "cell_type": "markdown",
      "source": [
        "# Exemple 2 : Récupérer les publications qui ont des citations"
      ],
      "metadata": {
        "id": "ViBqevyd5iTx"
      }
    },
    {
      "cell_type": "code",
      "source": [
        "# Requête SPARQL pour récupérer les publications avec plus de 10 citations\n",
        "query = prepareQuery(\"\"\"\n",
        "    SELECT ?title ?citedbyCount\n",
        "    WHERE {\n",
        "        ?publication a <http://example.org/Publication> ;\n",
        "                     <http://purl.org/dc/elements/1.1/title> ?title ;\n",
        "                     <http://example.org/citedbyCount> ?citedbyCount .\n",
        "        FILTER (?citedbyCount > 0)\n",
        "    }\n",
        "\"\"\")\n",
        "\n",
        "# Exécuter la requête et afficher les résultats\n",
        "for row in g.query(query):\n",
        "    print(f\"Title: {row.title}, Citations: {row.citedbyCount}\")\n"
      ],
      "metadata": {
        "colab": {
          "base_uri": "https://localhost:8080/"
        },
        "id": "eotK88Xu5jUF",
        "outputId": "ca7bc147-2c78-4ab8-aeb8-b58bfba12996"
      },
      "execution_count": 15,
      "outputs": [
        {
          "output_type": "stream",
          "name": "stdout",
          "text": [
            "Title: Exploring the diversity of dissolved organic matter (DOM) properties and sources in different functional areas of a typical macrophyte - derived lake combined with optical spectroscopy and FT-ICR MS analysis, Citations: 1\n",
            "Title: Analyzing vegetation health dynamics across seasons and regions through NDVI and climatic variables, Citations: 1\n",
            "Title: Association between a body shape index and cognitive impairment among us older adults from a cross-sectional survey of the NHANES 2011–2014, Citations: 1\n",
            "Title: Emission control status and future perspectives of diesel trucks in China, Citations: 2\n",
            "Title: Enhancement of strength and ductile-brittle transition temperature of SA508 Gr.3 low-alloy steel by controlling heat accumulation in laser powder-directed energy deposition, Citations: 1\n",
            "Title: The Rapid ASKAP Continuum Survey V: Cataloguing the sky at 1 367.5 MHz and the second data release of RACS-mid, Citations: 1\n",
            "Title: Technology factors and ERP system efficiency in the Jordanian industrial firms: does company size matter?, Citations: 2\n",
            "Title: Delayed reconstruction of the combat-related mandibular defects with non-vascularized iliac crest grafts: Defining the optimal conditions for a positive outcome in the retrospective study, Citations: 1\n",
            "Title: An experimental study of foam-oil interactions for nonionic-based binary surfactant systems under high salinity conditions, Citations: 1\n",
            "Title: An experimental study of foam-oil interactions for nonionic-based binary surfactant systems under high salinity conditions, Citations: 1\n",
            "Title: Highly efficient catalytic transfer hydrogenation for the conversion of nitrobenzene to aniline over PdO/TiO<inf>2</inf>: The key role of in situ switching from PdO to Pd, Citations: 2\n",
            "Title: Head movement dynamics in dystonia: a multi-centre retrospective study using visual perceptive deep learning, Citations: 1\n",
            "Title: Investigation on cost-effective composites for CO<inf>2</inf> adsorption from post-gasification residue and metal organic framework, Citations: 2\n",
            "Title: Exploring fs-laser irradiation damage subthreshold behavior of dielectric mirrors via electrical measurements, Citations: 1\n"
          ]
        }
      ]
    },
    {
      "cell_type": "markdown",
      "source": [
        "# **`Conclusion`**\n",
        "L'intégration de RDF et SPARQL dans notre projet permet de structurer les données de manière flexible et interopérable, facilitant les requêtes complexes et l'intégration avec d'autres sources de données. En convertissant les données récupérées en RDF et en utilisant SPARQL pour les interroger, on peut effectuer des analyses sophistiquées et obtenir des informations précieuses."
      ],
      "metadata": {
        "id": "iz4yGkaB5oPd"
      }
    }
  ]
}